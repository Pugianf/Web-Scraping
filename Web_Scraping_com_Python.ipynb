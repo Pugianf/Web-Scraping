{
  "nbformat": 4,
  "nbformat_minor": 0,
  "metadata": {
    "colab": {
      "name": "Web Scraping com Python.ipynb",
      "provenance": [],
      "authorship_tag": "ABX9TyOIUkuGE84bBImWDpE9bDdQ",
      "include_colab_link": true
    },
    "kernelspec": {
      "name": "python3",
      "display_name": "Python 3"
    },
    "language_info": {
      "name": "python"
    }
  },
  "cells": [
    {
      "cell_type": "markdown",
      "metadata": {
        "id": "view-in-github",
        "colab_type": "text"
      },
      "source": [
        "<a href=\"https://colab.research.google.com/github/Pugianf/Web-Scraping/blob/main/Web_Scraping_com_Python.ipynb\" target=\"_parent\"><img src=\"https://colab.research.google.com/assets/colab-badge.svg\" alt=\"Open In Colab\"/></a>"
      ]
    },
    {
      "cell_type": "markdown",
      "source": [
        "### Capítulo 1 - Seu Primeiro Web Scraping"
      ],
      "metadata": {
        "id": "0Nazpb1TabbB"
      }
    },
    {
      "cell_type": "code",
      "execution_count": null,
      "metadata": {
        "id": "UsczVxnEaWDB"
      },
      "outputs": [],
      "source": [
        ""
      ]
    }
  ]
}