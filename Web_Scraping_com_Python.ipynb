{
  "nbformat": 4,
  "nbformat_minor": 0,
  "metadata": {
    "colab": {
      "name": "Web Scraping com Python.ipynb",
      "provenance": [],
      "authorship_tag": "ABX9TyPgt5oZhYdMJDC3xaizlslL",
      "include_colab_link": true
    },
    "kernelspec": {
      "name": "python3",
      "display_name": "Python 3"
    },
    "language_info": {
      "name": "python"
    }
  },
  "cells": [
    {
      "cell_type": "markdown",
      "metadata": {
        "id": "view-in-github",
        "colab_type": "text"
      },
      "source": [
        "<a href=\"https://colab.research.google.com/github/Pugianf/Web-Scraping/blob/main/Web_Scraping_com_Python.ipynb\" target=\"_parent\"><img src=\"https://colab.research.google.com/assets/colab-badge.svg\" alt=\"Open In Colab\"/></a>"
      ]
    },
    {
      "cell_type": "markdown",
      "source": [
        "### Capítulo 1 - Seu Primeiro Web Scraping"
      ],
      "metadata": {
        "id": "0Nazpb1TabbB"
      }
    },
    {
      "cell_type": "code",
      "execution_count": null,
      "metadata": {
        "colab": {
          "base_uri": "https://localhost:8080/"
        },
        "id": "UsczVxnEaWDB",
        "outputId": "aec84402-68a4-42e5-c83c-ec33e64f2636"
      },
      "outputs": [
        {
          "output_type": "stream",
          "name": "stdout",
          "text": [
            "b'<html>\\n<head>\\n<title>A Useful Page</title>\\n</head>\\n<body>\\n<h1>An Interesting Title</h1>\\n<div>\\nLorem ipsum dolor sit amet, consectetur adipisicing elit, sed do eiusmod tempor incididunt ut labore et dolore magna aliqua. Ut enim ad minim veniam, quis nostrud exercitation ullamco laboris nisi ut aliquip ex ea commodo consequat. Duis aute irure dolor in reprehenderit in voluptate velit esse cillum dolore eu fugiat nulla pariatur. Excepteur sint occaecat cupidatat non proident, sunt in culpa qui officia deserunt mollit anim id est laborum.\\n</div>\\n</body>\\n</html>\\n'\n"
          ]
        }
      ],
      "source": [
        "# dizendo ao processador que envie dados para a aplicação\n",
        "\n",
        "from urllib.request import urlopen\n",
        "\n",
        "html = urlopen('http://pythonscraping.com/pages/page1.html')\n",
        "print(html.read())"
      ]
    },
    {
      "cell_type": "code",
      "source": [
        "!pip install beautifulsoup4"
      ],
      "metadata": {
        "colab": {
          "base_uri": "https://localhost:8080/"
        },
        "id": "VrIddm-ZcTTn",
        "outputId": "8279bc2c-4da3-4ff9-a73a-f3ba9778e23d"
      },
      "execution_count": null,
      "outputs": [
        {
          "output_type": "stream",
          "name": "stdout",
          "text": [
            "Requirement already satisfied: beautifulsoup4 in /usr/local/lib/python3.7/dist-packages (4.6.3)\n"
          ]
        }
      ]
    },
    {
      "cell_type": "code",
      "source": [
        "# somente a primeira instância da tag h1 encontrada na página é devolvida\n",
        "\n",
        "# por convenção, apenas uma tag h1 deve ser usada em uma página - contudo, as convenções muitas vezes não são seguidas na web\n",
        "\n",
        "# portanto, deve-se ter noção de que esse código devolverá apenas a primeira instância da tag, e não necessariamente a que estou procurando\n",
        "\n",
        "from urllib.request import urlopen\n",
        "from bs4 import BeautifulSoup\n",
        "\n",
        "html = urlopen('http://pythonscraping.com/pages/page1.html')\n",
        "bs = BeautifulSoup(html.read(), 'html.parser')\n",
        "print(bs.h1)"
      ],
      "metadata": {
        "colab": {
          "base_uri": "https://localhost:8080/"
        },
        "id": "FjVNI9-rXbiO",
        "outputId": "d37f5f91-8687-4863-eb71-3c7b27453cd0"
      },
      "execution_count": null,
      "outputs": [
        {
          "output_type": "stream",
          "name": "stdout",
          "text": [
            "<h1>An Interesting Title</h1>\n"
          ]
        }
      ]
    },
    {
      "cell_type": "code",
      "source": [
        "# o beautifulsoup também pode usar diretamente o objeto de arquivo devolvido por urlopenm sem precisar chamar .rean() antes\n",
        "\n",
        "from urllib.request import urlopen\n",
        "from bs4 import BeautifulSoup\n",
        "\n",
        "html = urlopen('http://pythonscraping.com/pages/page1.html')\n",
        "bs = BeautifulSoup(html, 'html.parser')\n",
        "print(bs.h1)"
      ],
      "metadata": {
        "colab": {
          "base_uri": "https://localhost:8080/"
        },
        "id": "SRJlcS8EkH4I",
        "outputId": "af944834-f2e5-4713-b31a-83e63bd66675"
      },
      "execution_count": null,
      "outputs": [
        {
          "output_type": "stream",
          "name": "stdout",
          "text": [
            "<h1>An Interesting Title</h1>\n"
          ]
        }
      ]
    },
    {
      "cell_type": "code",
      "source": [
        "# o conteúdo html é transformado em um objeto BeautifulSoup com a seguinte estrutura:\n",
        "\n",
        "  # * html -> <html><head>...</head><body>...</body></html>\n",
        "  #   - head -> <head><title>A Useful Page</title>\n",
        "  #     - title -> <title>A Useful Page</title>\n",
        "  #   - body -> <body><h1>An in...</h1><div>Lorem ip...</div></body>\n",
        "  #     - h1 -> <h1>An in...</h1>\n",
        "  #     - div -> <div>Lorem ip...</div>"
      ],
      "metadata": {
        "id": "Va5ixvqAkizl"
      },
      "execution_count": null,
      "outputs": []
    },
    {
      "cell_type": "code",
      "source": [
        "# a tag h1 está aninhada a dois níveis de profundidade na estrutura do objeto BeautifulSoup (html -> body -> h1)\n",
        "\n",
        "# no entanto, ao buscá-la no objeto, é possível acessar a tag h1 diretamente"
      ],
      "metadata": {
        "id": "rcY2c8TLmb1R"
      },
      "execution_count": null,
      "outputs": []
    },
    {
      "cell_type": "code",
      "source": [
        "# com efeito, qualquer uma das chamadas de função a seguir produziria o mesmo resultado:\n",
        "\n",
        "bs.html.body.h1"
      ],
      "metadata": {
        "colab": {
          "base_uri": "https://localhost:8080/"
        },
        "id": "QYjVot_-mxGz",
        "outputId": "9d41b13d-1f80-49d0-cd07-e0d6a4222c1f"
      },
      "execution_count": null,
      "outputs": [
        {
          "output_type": "execute_result",
          "data": {
            "text/plain": [
              "<h1>An Interesting Title</h1>"
            ]
          },
          "metadata": {},
          "execution_count": 8
        }
      ]
    },
    {
      "cell_type": "code",
      "source": [
        "bs.body.h1"
      ],
      "metadata": {
        "colab": {
          "base_uri": "https://localhost:8080/"
        },
        "id": "wrVH5HJwm4e6",
        "outputId": "b6a28295-23bd-4d16-cba2-be3e4f5a3971"
      },
      "execution_count": null,
      "outputs": [
        {
          "output_type": "execute_result",
          "data": {
            "text/plain": [
              "<h1>An Interesting Title</h1>"
            ]
          },
          "metadata": {},
          "execution_count": 9
        }
      ]
    },
    {
      "cell_type": "code",
      "source": [
        "bs.html.h1"
      ],
      "metadata": {
        "colab": {
          "base_uri": "https://localhost:8080/"
        },
        "id": "RXPimx4bm7Eh",
        "outputId": "7cfdf5b3-60ca-4312-d739-7bc905709533"
      },
      "execution_count": null,
      "outputs": [
        {
          "output_type": "execute_result",
          "data": {
            "text/plain": [
              "<h1>An Interesting Title</h1>"
            ]
          },
          "metadata": {},
          "execution_count": 10
        }
      ]
    },
    {
      "cell_type": "code",
      "source": [
        "# ao criar um objeto BeautifulSoup, dois argumentos são passados:\n",
        "\n",
        "bs = BeautifulSoup(html, 'html.parser')\n",
        "\n",
        "# o primeiro é o texto html no qual o objeto se baseia, e o segundo especifica o parser que queremos que o BeautifulSoup use para criar o objeto\n",
        "\n",
        "# na maioria dos casos, o parser escolhido não fará diferença"
      ],
      "metadata": {
        "id": "_1rRfkA1m9Tm"
      },
      "execution_count": null,
      "outputs": []
    },
    {
      "cell_type": "code",
      "source": [
        "# html.parser é um parser incluiído no Python 3, e não exige nenhuma instalação extra para ser usado\n",
        "\n",
        "# outro parser conhecido é o lxml - esse parser pode ser instalado com o pip\n",
        "\n",
        "!pip install lxml"
      ],
      "metadata": {
        "colab": {
          "base_uri": "https://localhost:8080/"
        },
        "id": "ufoMBL6UnG5I",
        "outputId": "faf7afd2-93ae-462b-9138-ccd1f14bba42"
      },
      "execution_count": null,
      "outputs": [
        {
          "output_type": "stream",
          "name": "stdout",
          "text": [
            "Requirement already satisfied: lxml in /usr/local/lib/python3.7/dist-packages (4.2.6)\n"
          ]
        }
      ]
    },
    {
      "cell_type": "code",
      "source": [
        "# o lxml pode ser usado com o BeautifulSoup se a string de parser especificada for alterada\n",
        "\n",
        "bs = BeautifulSoup(html.read(), 'lxml')"
      ],
      "metadata": {
        "id": "jw8NoYC8nxEN"
      },
      "execution_count": null,
      "outputs": []
    },
    {
      "cell_type": "code",
      "source": [
        "# o lxml tem algumas vantagens em relação ao html.parser: em geral, ele é melhor para fazer parse de código html \"confuso\" ou mal formatado\n",
        "\n",
        "# é um parser mais tolerante e corrige problemas como tags sem fechamento, tags indevidamente aninhadas e tags de cabeçalho e de corpo ausentes\n",
        "\n",
        "# também é um parser mais rápido que o html.parser, embora a velocidade não seja necessariamente uma vantagem no web scraping ->\n",
        "\n",
        "# considerando que a própria velocidade da rede quase sempre será o principal gargalo"
      ],
      "metadata": {
        "id": "CQDccE1Sn_Ae"
      },
      "execution_count": null,
      "outputs": []
    },
    {
      "cell_type": "code",
      "source": [
        "# uma das desvantagens do lxml é que ele deve ser instalado separadamente e depende de bibliotecas C de terceiros para funcionar\n",
        "\n",
        "# isso pode causar problemas de de portabilidade e de facilidade de uso, em comparação com o html.parser"
      ],
      "metadata": {
        "id": "Ntw8yxuRn_3r"
      },
      "execution_count": null,
      "outputs": []
    },
    {
      "cell_type": "code",
      "source": [
        "# outro parser conhecido é o html5lib\n",
        "\n",
        "# assim como o lxml, o html5lib é um parser extremamente tolerante, com mais iniciativa ainda para corrigir um código HTML com falhas\n",
        "\n",
        "# também tem dependência externa e é mais lento quando comparado tanto com o lxml quanto com o html parser\n",
        "\n",
        "# apesar dissom essa pode ser uma boa opção caso se esteja trabalhando com sites html com sites HTML confusos ou escritos manualmente"
      ],
      "metadata": {
        "id": "DrWlwqqaH5iE"
      },
      "execution_count": null,
      "outputs": []
    },
    {
      "cell_type": "code",
      "source": [
        "# para usar, basta fazer a instalação e passar a string html5 para o objeto beautifulsoup\n",
        "\n",
        "!pip install html5lib\n",
        "\n",
        "bs = BeautifulSoup(html.read(), 'html5lib')"
      ],
      "metadata": {
        "colab": {
          "base_uri": "https://localhost:8080/"
        },
        "id": "Gt0jZaHzI8Z-",
        "outputId": "a283c419-a22c-4b20-da80-a1af8e035636"
      },
      "execution_count": null,
      "outputs": [
        {
          "output_type": "stream",
          "name": "stdout",
          "text": [
            "Requirement already satisfied: html5lib in /usr/local/lib/python3.7/dist-packages (1.0.1)\n",
            "Requirement already satisfied: webencodings in /usr/local/lib/python3.7/dist-packages (from html5lib) (0.5.1)\n",
            "Requirement already satisfied: six>=1.9 in /usr/local/lib/python3.7/dist-packages (from html5lib) (1.15.0)\n"
          ]
        }
      ]
    },
    {
      "cell_type": "code",
      "source": [
        "# na instrução abaixo, 2 erros podem ocorrer e é possível lidar com as exceções\n",
        "\n",
        "html = urlopen('http://www.pythonscraping.com/pages/page1.html')\n",
        "\n",
        "# a página pode não ser encontrada no servidor (ou houve um erro ao obtê-la)\n",
        "\n",
        "# o servidor não foi encontrado"
      ],
      "metadata": {
        "id": "PxYW1FG4JN36"
      },
      "execution_count": null,
      "outputs": []
    },
    {
      "cell_type": "code",
      "source": [
        "# na primeira situação, um erro HTTP será devolvido\n",
        "\n",
        "# esse erro pode ser '404 Page Not Found', '500 Internal Server Error', e assim por diante\n",
        "\n",
        "# em todos esses casos, a função urlopen lançará a exceção genérica HTTPError\n",
        "\n",
        "# essa exceção pode ser tratada da seguinte maneira: \n",
        "\n",
        "from urllib.request import urlopen\n",
        "from urllib.error import HTTPError\n",
        "\n",
        "try:\n",
        "  html = urlopen('http://www.pythonscraping.com/pages/page1.html')\n",
        "except HTTPError as e:\n",
        "  print(e)\n",
        "  # devolve null, executa um break ou algum outro \"Plano B\"\n",
        "else:\n",
        "  bs = BeautifulSoup(html.read(), 'html5lib')\n",
        "  # o programa continua\n",
        "\n",
        "# se um código de erro HTTP for devolvido, o programa agora exibirá o erro e não executará o resto do programa que está na instrução else"
      ],
      "metadata": {
        "id": "4j1l49lcKH3A"
      },
      "execution_count": null,
      "outputs": []
    },
    {
      "cell_type": "code",
      "source": [
        "# forçando um erro para ver o que aparece\n",
        "\n",
        "from urllib.request import urlopen\n",
        "from urllib.error import HTTPError\n",
        "\n",
        "try:\n",
        "  html = urlopen('http://www.pythonscraping.com/pagess/page1.html')\n",
        "except HTTPError as e:\n",
        "  print(e)\n",
        "  # devolve null, executa um break ou algum outro \"Plano B\"\n",
        "else:\n",
        "  bs = BeautifulSoup(html.read(), 'html5lib')\n",
        "  # o programa continua"
      ],
      "metadata": {
        "colab": {
          "base_uri": "https://localhost:8080/"
        },
        "id": "iepRPXWbLPPf",
        "outputId": "746c90ff-245c-49b5-e6fd-640cd84610be"
      },
      "execution_count": null,
      "outputs": [
        {
          "output_type": "stream",
          "name": "stdout",
          "text": [
            "HTTP Error 404: Not Found\n"
          ]
        }
      ]
    },
    {
      "cell_type": "code",
      "source": [
        "# forçando o error sem o HTTPError\n",
        "\n",
        "from urllib.request import urlopen\n",
        "\n",
        "html = urlopen('http://www.pythonscraping.com/pagess/page1.html')\n",
        "bs = BeautifulSoup(html.read(), 'html5lib')"
      ],
      "metadata": {
        "colab": {
          "base_uri": "https://localhost:8080/",
          "height": 363
        },
        "id": "xdBAxMOgLfxr",
        "outputId": "a6e325bb-d408-4f32-8cba-2abf6c56ebcb"
      },
      "execution_count": null,
      "outputs": [
        {
          "output_type": "error",
          "ename": "HTTPError",
          "evalue": "ignored",
          "traceback": [
            "\u001b[0;31m---------------------------------------------------------------------------\u001b[0m",
            "\u001b[0;31mHTTPError\u001b[0m                                 Traceback (most recent call last)",
            "\u001b[0;32m<ipython-input-21-85795a9e8686>\u001b[0m in \u001b[0;36m<module>\u001b[0;34m()\u001b[0m\n\u001b[1;32m      3\u001b[0m \u001b[0;32mfrom\u001b[0m \u001b[0murllib\u001b[0m\u001b[0;34m.\u001b[0m\u001b[0mrequest\u001b[0m \u001b[0;32mimport\u001b[0m \u001b[0murlopen\u001b[0m\u001b[0;34m\u001b[0m\u001b[0;34m\u001b[0m\u001b[0m\n\u001b[1;32m      4\u001b[0m \u001b[0;34m\u001b[0m\u001b[0m\n\u001b[0;32m----> 5\u001b[0;31m \u001b[0mhtml\u001b[0m \u001b[0;34m=\u001b[0m \u001b[0murlopen\u001b[0m\u001b[0;34m(\u001b[0m\u001b[0;34m'http://www.pythonscraping.com/pagess/page1.html'\u001b[0m\u001b[0;34m)\u001b[0m\u001b[0;34m\u001b[0m\u001b[0;34m\u001b[0m\u001b[0m\n\u001b[0m\u001b[1;32m      6\u001b[0m \u001b[0mbs\u001b[0m \u001b[0;34m=\u001b[0m \u001b[0mBeautifulSoup\u001b[0m\u001b[0;34m(\u001b[0m\u001b[0mhtml\u001b[0m\u001b[0;34m.\u001b[0m\u001b[0mread\u001b[0m\u001b[0;34m(\u001b[0m\u001b[0;34m)\u001b[0m\u001b[0;34m,\u001b[0m \u001b[0;34m'html5lib'\u001b[0m\u001b[0;34m)\u001b[0m\u001b[0;34m\u001b[0m\u001b[0;34m\u001b[0m\u001b[0m\n",
            "\u001b[0;32m/usr/lib/python3.7/urllib/request.py\u001b[0m in \u001b[0;36murlopen\u001b[0;34m(url, data, timeout, cafile, capath, cadefault, context)\u001b[0m\n\u001b[1;32m    220\u001b[0m     \u001b[0;32melse\u001b[0m\u001b[0;34m:\u001b[0m\u001b[0;34m\u001b[0m\u001b[0;34m\u001b[0m\u001b[0m\n\u001b[1;32m    221\u001b[0m         \u001b[0mopener\u001b[0m \u001b[0;34m=\u001b[0m \u001b[0m_opener\u001b[0m\u001b[0;34m\u001b[0m\u001b[0;34m\u001b[0m\u001b[0m\n\u001b[0;32m--> 222\u001b[0;31m     \u001b[0;32mreturn\u001b[0m \u001b[0mopener\u001b[0m\u001b[0;34m.\u001b[0m\u001b[0mopen\u001b[0m\u001b[0;34m(\u001b[0m\u001b[0murl\u001b[0m\u001b[0;34m,\u001b[0m \u001b[0mdata\u001b[0m\u001b[0;34m,\u001b[0m \u001b[0mtimeout\u001b[0m\u001b[0;34m)\u001b[0m\u001b[0;34m\u001b[0m\u001b[0;34m\u001b[0m\u001b[0m\n\u001b[0m\u001b[1;32m    223\u001b[0m \u001b[0;34m\u001b[0m\u001b[0m\n\u001b[1;32m    224\u001b[0m \u001b[0;32mdef\u001b[0m \u001b[0minstall_opener\u001b[0m\u001b[0;34m(\u001b[0m\u001b[0mopener\u001b[0m\u001b[0;34m)\u001b[0m\u001b[0;34m:\u001b[0m\u001b[0;34m\u001b[0m\u001b[0;34m\u001b[0m\u001b[0m\n",
            "\u001b[0;32m/usr/lib/python3.7/urllib/request.py\u001b[0m in \u001b[0;36mopen\u001b[0;34m(self, fullurl, data, timeout)\u001b[0m\n\u001b[1;32m    529\u001b[0m         \u001b[0;32mfor\u001b[0m \u001b[0mprocessor\u001b[0m \u001b[0;32min\u001b[0m \u001b[0mself\u001b[0m\u001b[0;34m.\u001b[0m\u001b[0mprocess_response\u001b[0m\u001b[0;34m.\u001b[0m\u001b[0mget\u001b[0m\u001b[0;34m(\u001b[0m\u001b[0mprotocol\u001b[0m\u001b[0;34m,\u001b[0m \u001b[0;34m[\u001b[0m\u001b[0;34m]\u001b[0m\u001b[0;34m)\u001b[0m\u001b[0;34m:\u001b[0m\u001b[0;34m\u001b[0m\u001b[0;34m\u001b[0m\u001b[0m\n\u001b[1;32m    530\u001b[0m             \u001b[0mmeth\u001b[0m \u001b[0;34m=\u001b[0m \u001b[0mgetattr\u001b[0m\u001b[0;34m(\u001b[0m\u001b[0mprocessor\u001b[0m\u001b[0;34m,\u001b[0m \u001b[0mmeth_name\u001b[0m\u001b[0;34m)\u001b[0m\u001b[0;34m\u001b[0m\u001b[0;34m\u001b[0m\u001b[0m\n\u001b[0;32m--> 531\u001b[0;31m             \u001b[0mresponse\u001b[0m \u001b[0;34m=\u001b[0m \u001b[0mmeth\u001b[0m\u001b[0;34m(\u001b[0m\u001b[0mreq\u001b[0m\u001b[0;34m,\u001b[0m \u001b[0mresponse\u001b[0m\u001b[0;34m)\u001b[0m\u001b[0;34m\u001b[0m\u001b[0;34m\u001b[0m\u001b[0m\n\u001b[0m\u001b[1;32m    532\u001b[0m \u001b[0;34m\u001b[0m\u001b[0m\n\u001b[1;32m    533\u001b[0m         \u001b[0;32mreturn\u001b[0m \u001b[0mresponse\u001b[0m\u001b[0;34m\u001b[0m\u001b[0;34m\u001b[0m\u001b[0m\n",
            "\u001b[0;32m/usr/lib/python3.7/urllib/request.py\u001b[0m in \u001b[0;36mhttp_response\u001b[0;34m(self, request, response)\u001b[0m\n\u001b[1;32m    639\u001b[0m         \u001b[0;32mif\u001b[0m \u001b[0;32mnot\u001b[0m \u001b[0;34m(\u001b[0m\u001b[0;36m200\u001b[0m \u001b[0;34m<=\u001b[0m \u001b[0mcode\u001b[0m \u001b[0;34m<\u001b[0m \u001b[0;36m300\u001b[0m\u001b[0;34m)\u001b[0m\u001b[0;34m:\u001b[0m\u001b[0;34m\u001b[0m\u001b[0;34m\u001b[0m\u001b[0m\n\u001b[1;32m    640\u001b[0m             response = self.parent.error(\n\u001b[0;32m--> 641\u001b[0;31m                 'http', request, response, code, msg, hdrs)\n\u001b[0m\u001b[1;32m    642\u001b[0m \u001b[0;34m\u001b[0m\u001b[0m\n\u001b[1;32m    643\u001b[0m         \u001b[0;32mreturn\u001b[0m \u001b[0mresponse\u001b[0m\u001b[0;34m\u001b[0m\u001b[0;34m\u001b[0m\u001b[0m\n",
            "\u001b[0;32m/usr/lib/python3.7/urllib/request.py\u001b[0m in \u001b[0;36merror\u001b[0;34m(self, proto, *args)\u001b[0m\n\u001b[1;32m    561\u001b[0m             \u001b[0mhttp_err\u001b[0m \u001b[0;34m=\u001b[0m \u001b[0;36m0\u001b[0m\u001b[0;34m\u001b[0m\u001b[0;34m\u001b[0m\u001b[0m\n\u001b[1;32m    562\u001b[0m         \u001b[0margs\u001b[0m \u001b[0;34m=\u001b[0m \u001b[0;34m(\u001b[0m\u001b[0mdict\u001b[0m\u001b[0;34m,\u001b[0m \u001b[0mproto\u001b[0m\u001b[0;34m,\u001b[0m \u001b[0mmeth_name\u001b[0m\u001b[0;34m)\u001b[0m \u001b[0;34m+\u001b[0m \u001b[0margs\u001b[0m\u001b[0;34m\u001b[0m\u001b[0;34m\u001b[0m\u001b[0m\n\u001b[0;32m--> 563\u001b[0;31m         \u001b[0mresult\u001b[0m \u001b[0;34m=\u001b[0m \u001b[0mself\u001b[0m\u001b[0;34m.\u001b[0m\u001b[0m_call_chain\u001b[0m\u001b[0;34m(\u001b[0m\u001b[0;34m*\u001b[0m\u001b[0margs\u001b[0m\u001b[0;34m)\u001b[0m\u001b[0;34m\u001b[0m\u001b[0;34m\u001b[0m\u001b[0m\n\u001b[0m\u001b[1;32m    564\u001b[0m         \u001b[0;32mif\u001b[0m \u001b[0mresult\u001b[0m\u001b[0;34m:\u001b[0m\u001b[0;34m\u001b[0m\u001b[0;34m\u001b[0m\u001b[0m\n\u001b[1;32m    565\u001b[0m             \u001b[0;32mreturn\u001b[0m \u001b[0mresult\u001b[0m\u001b[0;34m\u001b[0m\u001b[0;34m\u001b[0m\u001b[0m\n",
            "\u001b[0;32m/usr/lib/python3.7/urllib/request.py\u001b[0m in \u001b[0;36m_call_chain\u001b[0;34m(self, chain, kind, meth_name, *args)\u001b[0m\n\u001b[1;32m    501\u001b[0m         \u001b[0;32mfor\u001b[0m \u001b[0mhandler\u001b[0m \u001b[0;32min\u001b[0m \u001b[0mhandlers\u001b[0m\u001b[0;34m:\u001b[0m\u001b[0;34m\u001b[0m\u001b[0;34m\u001b[0m\u001b[0m\n\u001b[1;32m    502\u001b[0m             \u001b[0mfunc\u001b[0m \u001b[0;34m=\u001b[0m \u001b[0mgetattr\u001b[0m\u001b[0;34m(\u001b[0m\u001b[0mhandler\u001b[0m\u001b[0;34m,\u001b[0m \u001b[0mmeth_name\u001b[0m\u001b[0;34m)\u001b[0m\u001b[0;34m\u001b[0m\u001b[0;34m\u001b[0m\u001b[0m\n\u001b[0;32m--> 503\u001b[0;31m             \u001b[0mresult\u001b[0m \u001b[0;34m=\u001b[0m \u001b[0mfunc\u001b[0m\u001b[0;34m(\u001b[0m\u001b[0;34m*\u001b[0m\u001b[0margs\u001b[0m\u001b[0;34m)\u001b[0m\u001b[0;34m\u001b[0m\u001b[0;34m\u001b[0m\u001b[0m\n\u001b[0m\u001b[1;32m    504\u001b[0m             \u001b[0;32mif\u001b[0m \u001b[0mresult\u001b[0m \u001b[0;32mis\u001b[0m \u001b[0;32mnot\u001b[0m \u001b[0;32mNone\u001b[0m\u001b[0;34m:\u001b[0m\u001b[0;34m\u001b[0m\u001b[0;34m\u001b[0m\u001b[0m\n\u001b[1;32m    505\u001b[0m                 \u001b[0;32mreturn\u001b[0m \u001b[0mresult\u001b[0m\u001b[0;34m\u001b[0m\u001b[0;34m\u001b[0m\u001b[0m\n",
            "\u001b[0;32m/usr/lib/python3.7/urllib/request.py\u001b[0m in \u001b[0;36mhttp_error_302\u001b[0;34m(self, req, fp, code, msg, headers)\u001b[0m\n\u001b[1;32m    753\u001b[0m         \u001b[0mfp\u001b[0m\u001b[0;34m.\u001b[0m\u001b[0mclose\u001b[0m\u001b[0;34m(\u001b[0m\u001b[0;34m)\u001b[0m\u001b[0;34m\u001b[0m\u001b[0;34m\u001b[0m\u001b[0m\n\u001b[1;32m    754\u001b[0m \u001b[0;34m\u001b[0m\u001b[0m\n\u001b[0;32m--> 755\u001b[0;31m         \u001b[0;32mreturn\u001b[0m \u001b[0mself\u001b[0m\u001b[0;34m.\u001b[0m\u001b[0mparent\u001b[0m\u001b[0;34m.\u001b[0m\u001b[0mopen\u001b[0m\u001b[0;34m(\u001b[0m\u001b[0mnew\u001b[0m\u001b[0;34m,\u001b[0m \u001b[0mtimeout\u001b[0m\u001b[0;34m=\u001b[0m\u001b[0mreq\u001b[0m\u001b[0;34m.\u001b[0m\u001b[0mtimeout\u001b[0m\u001b[0;34m)\u001b[0m\u001b[0;34m\u001b[0m\u001b[0;34m\u001b[0m\u001b[0m\n\u001b[0m\u001b[1;32m    756\u001b[0m \u001b[0;34m\u001b[0m\u001b[0m\n\u001b[1;32m    757\u001b[0m     \u001b[0mhttp_error_301\u001b[0m \u001b[0;34m=\u001b[0m \u001b[0mhttp_error_303\u001b[0m \u001b[0;34m=\u001b[0m \u001b[0mhttp_error_307\u001b[0m \u001b[0;34m=\u001b[0m \u001b[0mhttp_error_302\u001b[0m\u001b[0;34m\u001b[0m\u001b[0;34m\u001b[0m\u001b[0m\n",
            "\u001b[0;32m/usr/lib/python3.7/urllib/request.py\u001b[0m in \u001b[0;36mopen\u001b[0;34m(self, fullurl, data, timeout)\u001b[0m\n\u001b[1;32m    529\u001b[0m         \u001b[0;32mfor\u001b[0m \u001b[0mprocessor\u001b[0m \u001b[0;32min\u001b[0m \u001b[0mself\u001b[0m\u001b[0;34m.\u001b[0m\u001b[0mprocess_response\u001b[0m\u001b[0;34m.\u001b[0m\u001b[0mget\u001b[0m\u001b[0;34m(\u001b[0m\u001b[0mprotocol\u001b[0m\u001b[0;34m,\u001b[0m \u001b[0;34m[\u001b[0m\u001b[0;34m]\u001b[0m\u001b[0;34m)\u001b[0m\u001b[0;34m:\u001b[0m\u001b[0;34m\u001b[0m\u001b[0;34m\u001b[0m\u001b[0m\n\u001b[1;32m    530\u001b[0m             \u001b[0mmeth\u001b[0m \u001b[0;34m=\u001b[0m \u001b[0mgetattr\u001b[0m\u001b[0;34m(\u001b[0m\u001b[0mprocessor\u001b[0m\u001b[0;34m,\u001b[0m \u001b[0mmeth_name\u001b[0m\u001b[0;34m)\u001b[0m\u001b[0;34m\u001b[0m\u001b[0;34m\u001b[0m\u001b[0m\n\u001b[0;32m--> 531\u001b[0;31m             \u001b[0mresponse\u001b[0m \u001b[0;34m=\u001b[0m \u001b[0mmeth\u001b[0m\u001b[0;34m(\u001b[0m\u001b[0mreq\u001b[0m\u001b[0;34m,\u001b[0m \u001b[0mresponse\u001b[0m\u001b[0;34m)\u001b[0m\u001b[0;34m\u001b[0m\u001b[0;34m\u001b[0m\u001b[0m\n\u001b[0m\u001b[1;32m    532\u001b[0m \u001b[0;34m\u001b[0m\u001b[0m\n\u001b[1;32m    533\u001b[0m         \u001b[0;32mreturn\u001b[0m \u001b[0mresponse\u001b[0m\u001b[0;34m\u001b[0m\u001b[0;34m\u001b[0m\u001b[0m\n",
            "\u001b[0;32m/usr/lib/python3.7/urllib/request.py\u001b[0m in \u001b[0;36mhttp_response\u001b[0;34m(self, request, response)\u001b[0m\n\u001b[1;32m    639\u001b[0m         \u001b[0;32mif\u001b[0m \u001b[0;32mnot\u001b[0m \u001b[0;34m(\u001b[0m\u001b[0;36m200\u001b[0m \u001b[0;34m<=\u001b[0m \u001b[0mcode\u001b[0m \u001b[0;34m<\u001b[0m \u001b[0;36m300\u001b[0m\u001b[0;34m)\u001b[0m\u001b[0;34m:\u001b[0m\u001b[0;34m\u001b[0m\u001b[0;34m\u001b[0m\u001b[0m\n\u001b[1;32m    640\u001b[0m             response = self.parent.error(\n\u001b[0;32m--> 641\u001b[0;31m                 'http', request, response, code, msg, hdrs)\n\u001b[0m\u001b[1;32m    642\u001b[0m \u001b[0;34m\u001b[0m\u001b[0m\n\u001b[1;32m    643\u001b[0m         \u001b[0;32mreturn\u001b[0m \u001b[0mresponse\u001b[0m\u001b[0;34m\u001b[0m\u001b[0;34m\u001b[0m\u001b[0m\n",
            "\u001b[0;32m/usr/lib/python3.7/urllib/request.py\u001b[0m in \u001b[0;36merror\u001b[0;34m(self, proto, *args)\u001b[0m\n\u001b[1;32m    561\u001b[0m             \u001b[0mhttp_err\u001b[0m \u001b[0;34m=\u001b[0m \u001b[0;36m0\u001b[0m\u001b[0;34m\u001b[0m\u001b[0;34m\u001b[0m\u001b[0m\n\u001b[1;32m    562\u001b[0m         \u001b[0margs\u001b[0m \u001b[0;34m=\u001b[0m \u001b[0;34m(\u001b[0m\u001b[0mdict\u001b[0m\u001b[0;34m,\u001b[0m \u001b[0mproto\u001b[0m\u001b[0;34m,\u001b[0m \u001b[0mmeth_name\u001b[0m\u001b[0;34m)\u001b[0m \u001b[0;34m+\u001b[0m \u001b[0margs\u001b[0m\u001b[0;34m\u001b[0m\u001b[0;34m\u001b[0m\u001b[0m\n\u001b[0;32m--> 563\u001b[0;31m         \u001b[0mresult\u001b[0m \u001b[0;34m=\u001b[0m \u001b[0mself\u001b[0m\u001b[0;34m.\u001b[0m\u001b[0m_call_chain\u001b[0m\u001b[0;34m(\u001b[0m\u001b[0;34m*\u001b[0m\u001b[0margs\u001b[0m\u001b[0;34m)\u001b[0m\u001b[0;34m\u001b[0m\u001b[0;34m\u001b[0m\u001b[0m\n\u001b[0m\u001b[1;32m    564\u001b[0m         \u001b[0;32mif\u001b[0m \u001b[0mresult\u001b[0m\u001b[0;34m:\u001b[0m\u001b[0;34m\u001b[0m\u001b[0;34m\u001b[0m\u001b[0m\n\u001b[1;32m    565\u001b[0m             \u001b[0;32mreturn\u001b[0m \u001b[0mresult\u001b[0m\u001b[0;34m\u001b[0m\u001b[0;34m\u001b[0m\u001b[0m\n",
            "\u001b[0;32m/usr/lib/python3.7/urllib/request.py\u001b[0m in \u001b[0;36m_call_chain\u001b[0;34m(self, chain, kind, meth_name, *args)\u001b[0m\n\u001b[1;32m    501\u001b[0m         \u001b[0;32mfor\u001b[0m \u001b[0mhandler\u001b[0m \u001b[0;32min\u001b[0m \u001b[0mhandlers\u001b[0m\u001b[0;34m:\u001b[0m\u001b[0;34m\u001b[0m\u001b[0;34m\u001b[0m\u001b[0m\n\u001b[1;32m    502\u001b[0m             \u001b[0mfunc\u001b[0m \u001b[0;34m=\u001b[0m \u001b[0mgetattr\u001b[0m\u001b[0;34m(\u001b[0m\u001b[0mhandler\u001b[0m\u001b[0;34m,\u001b[0m \u001b[0mmeth_name\u001b[0m\u001b[0;34m)\u001b[0m\u001b[0;34m\u001b[0m\u001b[0;34m\u001b[0m\u001b[0m\n\u001b[0;32m--> 503\u001b[0;31m             \u001b[0mresult\u001b[0m \u001b[0;34m=\u001b[0m \u001b[0mfunc\u001b[0m\u001b[0;34m(\u001b[0m\u001b[0;34m*\u001b[0m\u001b[0margs\u001b[0m\u001b[0;34m)\u001b[0m\u001b[0;34m\u001b[0m\u001b[0;34m\u001b[0m\u001b[0m\n\u001b[0m\u001b[1;32m    504\u001b[0m             \u001b[0;32mif\u001b[0m \u001b[0mresult\u001b[0m \u001b[0;32mis\u001b[0m \u001b[0;32mnot\u001b[0m \u001b[0;32mNone\u001b[0m\u001b[0;34m:\u001b[0m\u001b[0;34m\u001b[0m\u001b[0;34m\u001b[0m\u001b[0m\n\u001b[1;32m    505\u001b[0m                 \u001b[0;32mreturn\u001b[0m \u001b[0mresult\u001b[0m\u001b[0;34m\u001b[0m\u001b[0;34m\u001b[0m\u001b[0m\n",
            "\u001b[0;32m/usr/lib/python3.7/urllib/request.py\u001b[0m in \u001b[0;36mhttp_error_302\u001b[0;34m(self, req, fp, code, msg, headers)\u001b[0m\n\u001b[1;32m    753\u001b[0m         \u001b[0mfp\u001b[0m\u001b[0;34m.\u001b[0m\u001b[0mclose\u001b[0m\u001b[0;34m(\u001b[0m\u001b[0;34m)\u001b[0m\u001b[0;34m\u001b[0m\u001b[0;34m\u001b[0m\u001b[0m\n\u001b[1;32m    754\u001b[0m \u001b[0;34m\u001b[0m\u001b[0m\n\u001b[0;32m--> 755\u001b[0;31m         \u001b[0;32mreturn\u001b[0m \u001b[0mself\u001b[0m\u001b[0;34m.\u001b[0m\u001b[0mparent\u001b[0m\u001b[0;34m.\u001b[0m\u001b[0mopen\u001b[0m\u001b[0;34m(\u001b[0m\u001b[0mnew\u001b[0m\u001b[0;34m,\u001b[0m \u001b[0mtimeout\u001b[0m\u001b[0;34m=\u001b[0m\u001b[0mreq\u001b[0m\u001b[0;34m.\u001b[0m\u001b[0mtimeout\u001b[0m\u001b[0;34m)\u001b[0m\u001b[0;34m\u001b[0m\u001b[0;34m\u001b[0m\u001b[0m\n\u001b[0m\u001b[1;32m    756\u001b[0m \u001b[0;34m\u001b[0m\u001b[0m\n\u001b[1;32m    757\u001b[0m     \u001b[0mhttp_error_301\u001b[0m \u001b[0;34m=\u001b[0m \u001b[0mhttp_error_303\u001b[0m \u001b[0;34m=\u001b[0m \u001b[0mhttp_error_307\u001b[0m \u001b[0;34m=\u001b[0m \u001b[0mhttp_error_302\u001b[0m\u001b[0;34m\u001b[0m\u001b[0;34m\u001b[0m\u001b[0m\n",
            "\u001b[0;32m/usr/lib/python3.7/urllib/request.py\u001b[0m in \u001b[0;36mopen\u001b[0;34m(self, fullurl, data, timeout)\u001b[0m\n\u001b[1;32m    529\u001b[0m         \u001b[0;32mfor\u001b[0m \u001b[0mprocessor\u001b[0m \u001b[0;32min\u001b[0m \u001b[0mself\u001b[0m\u001b[0;34m.\u001b[0m\u001b[0mprocess_response\u001b[0m\u001b[0;34m.\u001b[0m\u001b[0mget\u001b[0m\u001b[0;34m(\u001b[0m\u001b[0mprotocol\u001b[0m\u001b[0;34m,\u001b[0m \u001b[0;34m[\u001b[0m\u001b[0;34m]\u001b[0m\u001b[0;34m)\u001b[0m\u001b[0;34m:\u001b[0m\u001b[0;34m\u001b[0m\u001b[0;34m\u001b[0m\u001b[0m\n\u001b[1;32m    530\u001b[0m             \u001b[0mmeth\u001b[0m \u001b[0;34m=\u001b[0m \u001b[0mgetattr\u001b[0m\u001b[0;34m(\u001b[0m\u001b[0mprocessor\u001b[0m\u001b[0;34m,\u001b[0m \u001b[0mmeth_name\u001b[0m\u001b[0;34m)\u001b[0m\u001b[0;34m\u001b[0m\u001b[0;34m\u001b[0m\u001b[0m\n\u001b[0;32m--> 531\u001b[0;31m             \u001b[0mresponse\u001b[0m \u001b[0;34m=\u001b[0m \u001b[0mmeth\u001b[0m\u001b[0;34m(\u001b[0m\u001b[0mreq\u001b[0m\u001b[0;34m,\u001b[0m \u001b[0mresponse\u001b[0m\u001b[0;34m)\u001b[0m\u001b[0;34m\u001b[0m\u001b[0;34m\u001b[0m\u001b[0m\n\u001b[0m\u001b[1;32m    532\u001b[0m \u001b[0;34m\u001b[0m\u001b[0m\n\u001b[1;32m    533\u001b[0m         \u001b[0;32mreturn\u001b[0m \u001b[0mresponse\u001b[0m\u001b[0;34m\u001b[0m\u001b[0;34m\u001b[0m\u001b[0m\n",
            "\u001b[0;32m/usr/lib/python3.7/urllib/request.py\u001b[0m in \u001b[0;36mhttp_response\u001b[0;34m(self, request, response)\u001b[0m\n\u001b[1;32m    639\u001b[0m         \u001b[0;32mif\u001b[0m \u001b[0;32mnot\u001b[0m \u001b[0;34m(\u001b[0m\u001b[0;36m200\u001b[0m \u001b[0;34m<=\u001b[0m \u001b[0mcode\u001b[0m \u001b[0;34m<\u001b[0m \u001b[0;36m300\u001b[0m\u001b[0;34m)\u001b[0m\u001b[0;34m:\u001b[0m\u001b[0;34m\u001b[0m\u001b[0;34m\u001b[0m\u001b[0m\n\u001b[1;32m    640\u001b[0m             response = self.parent.error(\n\u001b[0;32m--> 641\u001b[0;31m                 'http', request, response, code, msg, hdrs)\n\u001b[0m\u001b[1;32m    642\u001b[0m \u001b[0;34m\u001b[0m\u001b[0m\n\u001b[1;32m    643\u001b[0m         \u001b[0;32mreturn\u001b[0m \u001b[0mresponse\u001b[0m\u001b[0;34m\u001b[0m\u001b[0;34m\u001b[0m\u001b[0m\n",
            "\u001b[0;32m/usr/lib/python3.7/urllib/request.py\u001b[0m in \u001b[0;36merror\u001b[0;34m(self, proto, *args)\u001b[0m\n\u001b[1;32m    567\u001b[0m         \u001b[0;32mif\u001b[0m \u001b[0mhttp_err\u001b[0m\u001b[0;34m:\u001b[0m\u001b[0;34m\u001b[0m\u001b[0;34m\u001b[0m\u001b[0m\n\u001b[1;32m    568\u001b[0m             \u001b[0margs\u001b[0m \u001b[0;34m=\u001b[0m \u001b[0;34m(\u001b[0m\u001b[0mdict\u001b[0m\u001b[0;34m,\u001b[0m \u001b[0;34m'default'\u001b[0m\u001b[0;34m,\u001b[0m \u001b[0;34m'http_error_default'\u001b[0m\u001b[0;34m)\u001b[0m \u001b[0;34m+\u001b[0m \u001b[0morig_args\u001b[0m\u001b[0;34m\u001b[0m\u001b[0;34m\u001b[0m\u001b[0m\n\u001b[0;32m--> 569\u001b[0;31m             \u001b[0;32mreturn\u001b[0m \u001b[0mself\u001b[0m\u001b[0;34m.\u001b[0m\u001b[0m_call_chain\u001b[0m\u001b[0;34m(\u001b[0m\u001b[0;34m*\u001b[0m\u001b[0margs\u001b[0m\u001b[0;34m)\u001b[0m\u001b[0;34m\u001b[0m\u001b[0;34m\u001b[0m\u001b[0m\n\u001b[0m\u001b[1;32m    570\u001b[0m \u001b[0;34m\u001b[0m\u001b[0m\n\u001b[1;32m    571\u001b[0m \u001b[0;31m# XXX probably also want an abstract factory that knows when it makes\u001b[0m\u001b[0;34m\u001b[0m\u001b[0;34m\u001b[0m\u001b[0;34m\u001b[0m\u001b[0m\n",
            "\u001b[0;32m/usr/lib/python3.7/urllib/request.py\u001b[0m in \u001b[0;36m_call_chain\u001b[0;34m(self, chain, kind, meth_name, *args)\u001b[0m\n\u001b[1;32m    501\u001b[0m         \u001b[0;32mfor\u001b[0m \u001b[0mhandler\u001b[0m \u001b[0;32min\u001b[0m \u001b[0mhandlers\u001b[0m\u001b[0;34m:\u001b[0m\u001b[0;34m\u001b[0m\u001b[0;34m\u001b[0m\u001b[0m\n\u001b[1;32m    502\u001b[0m             \u001b[0mfunc\u001b[0m \u001b[0;34m=\u001b[0m \u001b[0mgetattr\u001b[0m\u001b[0;34m(\u001b[0m\u001b[0mhandler\u001b[0m\u001b[0;34m,\u001b[0m \u001b[0mmeth_name\u001b[0m\u001b[0;34m)\u001b[0m\u001b[0;34m\u001b[0m\u001b[0;34m\u001b[0m\u001b[0m\n\u001b[0;32m--> 503\u001b[0;31m             \u001b[0mresult\u001b[0m \u001b[0;34m=\u001b[0m \u001b[0mfunc\u001b[0m\u001b[0;34m(\u001b[0m\u001b[0;34m*\u001b[0m\u001b[0margs\u001b[0m\u001b[0;34m)\u001b[0m\u001b[0;34m\u001b[0m\u001b[0;34m\u001b[0m\u001b[0m\n\u001b[0m\u001b[1;32m    504\u001b[0m             \u001b[0;32mif\u001b[0m \u001b[0mresult\u001b[0m \u001b[0;32mis\u001b[0m \u001b[0;32mnot\u001b[0m \u001b[0;32mNone\u001b[0m\u001b[0;34m:\u001b[0m\u001b[0;34m\u001b[0m\u001b[0;34m\u001b[0m\u001b[0m\n\u001b[1;32m    505\u001b[0m                 \u001b[0;32mreturn\u001b[0m \u001b[0mresult\u001b[0m\u001b[0;34m\u001b[0m\u001b[0;34m\u001b[0m\u001b[0m\n",
            "\u001b[0;32m/usr/lib/python3.7/urllib/request.py\u001b[0m in \u001b[0;36mhttp_error_default\u001b[0;34m(self, req, fp, code, msg, hdrs)\u001b[0m\n\u001b[1;32m    647\u001b[0m \u001b[0;32mclass\u001b[0m \u001b[0mHTTPDefaultErrorHandler\u001b[0m\u001b[0;34m(\u001b[0m\u001b[0mBaseHandler\u001b[0m\u001b[0;34m)\u001b[0m\u001b[0;34m:\u001b[0m\u001b[0;34m\u001b[0m\u001b[0;34m\u001b[0m\u001b[0m\n\u001b[1;32m    648\u001b[0m     \u001b[0;32mdef\u001b[0m \u001b[0mhttp_error_default\u001b[0m\u001b[0;34m(\u001b[0m\u001b[0mself\u001b[0m\u001b[0;34m,\u001b[0m \u001b[0mreq\u001b[0m\u001b[0;34m,\u001b[0m \u001b[0mfp\u001b[0m\u001b[0;34m,\u001b[0m \u001b[0mcode\u001b[0m\u001b[0;34m,\u001b[0m \u001b[0mmsg\u001b[0m\u001b[0;34m,\u001b[0m \u001b[0mhdrs\u001b[0m\u001b[0;34m)\u001b[0m\u001b[0;34m:\u001b[0m\u001b[0;34m\u001b[0m\u001b[0;34m\u001b[0m\u001b[0m\n\u001b[0;32m--> 649\u001b[0;31m         \u001b[0;32mraise\u001b[0m \u001b[0mHTTPError\u001b[0m\u001b[0;34m(\u001b[0m\u001b[0mreq\u001b[0m\u001b[0;34m.\u001b[0m\u001b[0mfull_url\u001b[0m\u001b[0;34m,\u001b[0m \u001b[0mcode\u001b[0m\u001b[0;34m,\u001b[0m \u001b[0mmsg\u001b[0m\u001b[0;34m,\u001b[0m \u001b[0mhdrs\u001b[0m\u001b[0;34m,\u001b[0m \u001b[0mfp\u001b[0m\u001b[0;34m)\u001b[0m\u001b[0;34m\u001b[0m\u001b[0;34m\u001b[0m\u001b[0m\n\u001b[0m\u001b[1;32m    650\u001b[0m \u001b[0;34m\u001b[0m\u001b[0m\n\u001b[1;32m    651\u001b[0m \u001b[0;32mclass\u001b[0m \u001b[0mHTTPRedirectHandler\u001b[0m\u001b[0;34m(\u001b[0m\u001b[0mBaseHandler\u001b[0m\u001b[0;34m)\u001b[0m\u001b[0;34m:\u001b[0m\u001b[0;34m\u001b[0m\u001b[0;34m\u001b[0m\u001b[0m\n",
            "\u001b[0;31mHTTPError\u001b[0m: HTTP Error 404: Not Found"
          ]
        }
      ]
    },
    {
      "cell_type": "code",
      "source": [
        "# se o servidor não for encontrado - se estiver fora do ar, ou o url estiver grafado incorretamente, urlopen lançará um URLError\n",
        "\n",
        "# isso quer dizer que não for possível acessar nenhum servidor e, como o servidor remoto é responsável por devolver códigos de status HTTP ->\n",
        "\n",
        "# um HTTPError não pôde ser lançado, e o erro URLError, mais grave, deve ser capturado\n",
        "\n",
        "# podemos acrescentear uma verificação para saber se é isso que está acontecendo"
      ],
      "metadata": {
        "id": "fIvT8TUvLuFl"
      },
      "execution_count": null,
      "outputs": []
    },
    {
      "cell_type": "code",
      "source": [
        "from urllib.request import urlopen\n",
        "from urllib.error import HTTPError\n",
        "from urllib.error import URLError\n",
        "\n",
        "try:\n",
        "  html = urlopen('http://www.pythonscrapingthisurldoesnotexist.com')\n",
        "\n",
        "except HTTPError as e:\n",
        "  print(e)\n",
        "\n",
        "except URLError as e:\n",
        "  print('The server could not be found')\n",
        "\n",
        "else:\n",
        "  print('It worked!')"
      ],
      "metadata": {
        "colab": {
          "base_uri": "https://localhost:8080/"
        },
        "id": "PkTBZ3rYM1tg",
        "outputId": "82a9109e-0118-4c5d-a1fe-6333dacc4aba"
      },
      "execution_count": null,
      "outputs": [
        {
          "output_type": "stream",
          "name": "stdout",
          "text": [
            "The server could not be found\n"
          ]
        }
      ]
    },
    {
      "cell_type": "code",
      "source": [
        "# se a página for obtida do servidor com sucesso, há ainda o problema de o conteúdo da página não ser exatamente o que se esperava\n",
        "\n",
        "# sempre que se acessar uma tag em um objeto beautifulsoup, acrescentar uma verificação para garantir que ela realmente exista é uma atitude inteligente\n",
        "\n",
        "# se for tentado acessar uma tag que não existe, o beautifulsoup devolverá um objeto None\n",
        "\n",
        "# o problema é que tentar acessar uma tag em um objeto None resultará no lançamento de um AttributeError"
      ],
      "metadata": {
        "id": "YVwoVAhlNdxZ"
      },
      "execution_count": null,
      "outputs": []
    },
    {
      "cell_type": "code",
      "source": [
        "# a linha a seguir (em que nonExistentTag é uma tag inventada, e não o nome de uma verdadeira função do BeautifulSoup):\n",
        "\n",
        "print(bs.nonExistentTag)\n",
        "\n",
        "# devolve um objeto None\n",
        "\n",
        "# é razoável conferir e tratar esse objeto\n",
        "\n",
        "# o problema ocorrerá se você não conferir, mas prosseguir tentando chamar outra função no objeto None, conforme mostra o código a seguir:"
      ],
      "metadata": {
        "colab": {
          "base_uri": "https://localhost:8080/"
        },
        "id": "2pA4bEwXmmTk",
        "outputId": "28140b27-f0ab-4b4c-f7b3-74296476fca5"
      },
      "execution_count": null,
      "outputs": [
        {
          "output_type": "stream",
          "name": "stdout",
          "text": [
            "None\n"
          ]
        },
        {
          "output_type": "stream",
          "name": "stderr",
          "text": [
            "/usr/local/lib/python3.7/dist-packages/bs4/element.py:1110: UserWarning: .nonExistentTag is deprecated, use .find(\"nonExistent\") instead. If you really were looking for a tag called nonExistentTag, use .find(\"nonExistentTag\")\n",
            "  name=tag_name\n"
          ]
        }
      ]
    },
    {
      "cell_type": "code",
      "source": [
        "# é razoável conferir e tratar esse objeto\n",
        "\n",
        "# o problema ocorrerá se você não conferir, mas prosseguir tentando chamar outra função no objeto None, conforme mostra o código a seguir:\n",
        "\n",
        "print(bs.nonExistentTag.someTag)\n",
        "\n",
        "# uma exceção será devolvida\n",
        "\n",
        "# AttributeError: 'NoneType' object has no attribute 'someTag'"
      ],
      "metadata": {
        "colab": {
          "base_uri": "https://localhost:8080/",
          "height": 269
        },
        "id": "qWBejDPLnift",
        "outputId": "13dcdff8-027e-4747-f65e-da56386b3d27"
      },
      "execution_count": null,
      "outputs": [
        {
          "output_type": "stream",
          "name": "stderr",
          "text": [
            "/usr/local/lib/python3.7/dist-packages/bs4/element.py:1110: UserWarning: .nonExistentTag is deprecated, use .find(\"nonExistent\") instead. If you really were looking for a tag called nonExistentTag, use .find(\"nonExistentTag\")\n",
            "  name=tag_name\n"
          ]
        },
        {
          "output_type": "error",
          "ename": "AttributeError",
          "evalue": "ignored",
          "traceback": [
            "\u001b[0;31m---------------------------------------------------------------------------\u001b[0m",
            "\u001b[0;31mAttributeError\u001b[0m                            Traceback (most recent call last)",
            "\u001b[0;32m<ipython-input-28-dad68d826f45>\u001b[0m in \u001b[0;36m<module>\u001b[0;34m()\u001b[0m\n\u001b[1;32m      3\u001b[0m \u001b[0;31m# o problema ocorrerá se você não conferir, mas prosseguir tentando chamar outra função no objeto None, conforme mostra o código a seguir:\u001b[0m\u001b[0;34m\u001b[0m\u001b[0;34m\u001b[0m\u001b[0;34m\u001b[0m\u001b[0m\n\u001b[1;32m      4\u001b[0m \u001b[0;34m\u001b[0m\u001b[0m\n\u001b[0;32m----> 5\u001b[0;31m \u001b[0mprint\u001b[0m\u001b[0;34m(\u001b[0m\u001b[0mbs\u001b[0m\u001b[0;34m.\u001b[0m\u001b[0mnonExistentTag\u001b[0m\u001b[0;34m.\u001b[0m\u001b[0msomeTag\u001b[0m\u001b[0;34m)\u001b[0m\u001b[0;34m\u001b[0m\u001b[0;34m\u001b[0m\u001b[0m\n\u001b[0m\u001b[1;32m      6\u001b[0m \u001b[0;34m\u001b[0m\u001b[0m\n\u001b[1;32m      7\u001b[0m \u001b[0;31m# uma exceção será devolvida\u001b[0m\u001b[0;34m\u001b[0m\u001b[0;34m\u001b[0m\u001b[0;34m\u001b[0m\u001b[0m\n",
            "\u001b[0;31mAttributeError\u001b[0m: 'NoneType' object has no attribute 'someTag'"
          ]
        }
      ]
    },
    {
      "cell_type": "code",
      "source": [
        "# o modo mais fácil de se proteger nessa situação é verificar as duas situações explicitamente\n",
        "\n",
        "try:\n",
        "  badContent = bs.nonExistingTag.anotherTag\n",
        "\n",
        "except AttributeError as e:\n",
        "  print('Tag was not found')\n",
        "\n",
        "else:\n",
        "  if badContent == None:\n",
        "    print('Tag was not found')\n",
        "\n",
        "  else:\n",
        "    print(badContent)"
      ],
      "metadata": {
        "colab": {
          "base_uri": "https://localhost:8080/"
        },
        "id": "YSnBK0rSntSf",
        "outputId": "63a21dfc-9337-41ef-ed98-e7e7fd7e06e4"
      },
      "execution_count": null,
      "outputs": [
        {
          "output_type": "stream",
          "name": "stdout",
          "text": [
            "Tag was not found\n"
          ]
        },
        {
          "output_type": "stream",
          "name": "stderr",
          "text": [
            "/usr/local/lib/python3.7/dist-packages/bs4/element.py:1110: UserWarning: .nonExistingTag is deprecated, use .find(\"nonExisting\") instead. If you really were looking for a tag called nonExistingTag, use .find(\"nonExistingTag\")\n",
            "  name=tag_name\n"
          ]
        }
      ]
    },
    {
      "cell_type": "code",
      "source": [
        "# essa verificação e o tratamento de cada erro parecem muito trabalhosos à primeira vista, mas é fácil fazer uma pequena reorganização nesse código, deixando-o menos difícil de ser escrito ->\n",
        "\n",
        "# e, acima de tudo, muito menos difícil de ler"
      ],
      "metadata": {
        "id": "lmDgM6TcoiGo"
      },
      "execution_count": null,
      "outputs": []
    },
    {
      "cell_type": "code",
      "source": [
        "# o código a seguir, por exemplo, é o nosso mesmo scraper escrito de modo um pouco diferenet:\n",
        "\n",
        "from urllib.request import urlopen\n",
        "from urllib.error import HTTPError\n",
        "from bs4 import BeautifulSoup\n",
        "\n",
        "def getTitle(url):\n",
        "  try:\n",
        "    html = urlopen(url)\n",
        "  except HTTPError as e:\n",
        "    return None\n",
        "\n",
        "  try:\n",
        "    bs = BeautifulSoup(html.read(), 'html.parser')\n",
        "    title = bs.body.h1\n",
        "  except AttributeError as e:\n",
        "    return None\n",
        "  \n",
        "  return title\n",
        "\n",
        "title = getTitle('http://www.pythonscraping.com/pages/page1.html')\n",
        "if title == None:\n",
        "  print('Title could not be found')\n",
        "else:\n",
        "  print(title)"
      ],
      "metadata": {
        "colab": {
          "base_uri": "https://localhost:8080/"
        },
        "id": "3v1XA-QSpIrc",
        "outputId": "8b8d58ec-ef61-408a-e02d-0715404cc1f7"
      },
      "execution_count": null,
      "outputs": [
        {
          "output_type": "stream",
          "name": "stdout",
          "text": [
            "<h1>An Interesting Title</h1>\n"
          ]
        }
      ]
    },
    {
      "cell_type": "code",
      "source": [
        "# nesse exemplo, criamos uma função getTitle que devolve o título da página, ou um objeto None caso tenha havido algum problema para obtê-lo\n",
        "\n",
        "# em getTitle, verificamos se houve um HTTPError, como no exemplo anterior, e encapsulamos duas das linhas do BeautifulSoup em uma intrução try\n",
        "\n",
        "# um AttibuteError pode ser lançado por qualqer uma dessas linhas (se o servidor não existir, html seria um objeto None e html.read() lançaria um AttibuteError)\n",
        "\n",
        "# na verdade, você poderia incluir quantas linhas quiser em uma instrução try, ou chamar outra função totalmente diferente, que poderia lançar um AttributeError em qualquer ponto"
      ],
      "metadata": {
        "id": "zpQvWLm_qj-H"
      },
      "execution_count": null,
      "outputs": []
    },
    {
      "cell_type": "code",
      "source": [
        "# ao escrever scrapers, é importante pensar no padrão geral de seu código a fim de lidar com as exceções e, ao mesmo tempo, deixá-lo legível\n",
        "\n",
        "# é provável que você queira também fazer uma intensa reutilização de código\n",
        "\n",
        "# ter função genéricas como getSiteHtml e getTitle (completas, com todo o tratamento para exceçãoes) facilita fazer uma coleta de dados da web de forma rápida e confiável"
      ],
      "metadata": {
        "id": "2scBk1OprjjO"
      },
      "execution_count": null,
      "outputs": []
    },
    {
      "cell_type": "markdown",
      "source": [
        "### Capítulo 2 - Parsing de HTML Avançado"
      ],
      "metadata": {
        "id": "DsOPo9vesByW"
      }
    },
    {
      "cell_type": "code",
      "source": [
        "# vamos criar um webscraper de exemplo que colete dados da página em http://www.pythonscraping.com/pages/warandpeace.html\n",
        "\n",
        "# nessa pégina, as linhas com frases ditas pelas personagens da história estão em vermelho, enquanto o nome das personagens estão em verde\n",
        "\n",
        "# podemos ver as tags span, que fazem referência às classes CSS apropriadas, na seguinte amostra do código-fonte da página\n",
        "  # \"<span class=\"red\">Heavens! what a virulent attack!</span>\" replied\n",
        "  # <span class=\"green\">the prince</span>, not in the least disconcerted by this reception."
      ],
      "metadata": {
        "id": "D_IJkRyLsMwW"
      },
      "execution_count": null,
      "outputs": []
    },
    {
      "cell_type": "code",
      "source": [
        "# considerando a página inteira, podemos criar um objeto BeautifulSoup com ela usando um programa semelhante àquele utilizado no Capítulo 1\n",
        "\n",
        "from urllib.request import urlopen\n",
        "from bs4 import BeautifulSoup\n",
        "\n",
        "html = urlopen('https://www.pythonscraping.com/pages/warandpeace.html')\n",
        "bs = BeautifulSoup(html.read(), 'html.parser')"
      ],
      "metadata": {
        "id": "P1MVGYpyMZEK"
      },
      "execution_count": null,
      "outputs": []
    },
    {
      "cell_type": "code",
      "source": [
        "# com esse objeto BeautifulSoup, a função find_all pode ser usada para extrair uma lista python com nomes próprios, encontrados ->\n",
        "\n",
        "# ao selecionar somente o texto entre as tags <span class=\"green\"></span> - find_all é uma função extremamente flexível que será bastante usada\n",
        "\n",
        "nameList = bs.find_all('span', {'class': 'green'})\n",
        "\n",
        "for name in nameList:\n",
        "  print(name.get_text())\n",
        "\n",
        "# aqui está acontecendo um problema, a tag está sendo dividido algumas vezes em mais de uma linha"
      ],
      "metadata": {
        "colab": {
          "base_uri": "https://localhost:8080/"
        },
        "id": "zEsVAcfPM6Wa",
        "outputId": "943dff8a-3765-422f-e27d-b68d4fa891eb"
      },
      "execution_count": null,
      "outputs": [
        {
          "output_type": "stream",
          "name": "stdout",
          "text": [
            "Anna\n",
            "Pavlovna Scherer\n",
            "Empress Marya\n",
            "Fedorovna\n",
            "Prince Vasili Kuragin\n",
            "Anna Pavlovna\n",
            "St. Petersburg\n",
            "the prince\n",
            "Anna Pavlovna\n",
            "Anna Pavlovna\n",
            "the prince\n",
            "the prince\n",
            "the prince\n",
            "Prince Vasili\n",
            "Anna Pavlovna\n",
            "Anna Pavlovna\n",
            "the prince\n",
            "Wintzingerode\n",
            "King of Prussia\n",
            "le Vicomte de Mortemart\n",
            "Montmorencys\n",
            "Rohans\n",
            "Abbe Morio\n",
            "the Emperor\n",
            "the prince\n",
            "Prince Vasili\n",
            "Dowager Empress Marya Fedorovna\n",
            "the baron\n",
            "Anna Pavlovna\n",
            "the Empress\n",
            "the Empress\n",
            "Anna Pavlovna's\n",
            "Her Majesty\n",
            "Baron\n",
            "Funke\n",
            "The prince\n",
            "Anna\n",
            "Pavlovna\n",
            "the Empress\n",
            "The prince\n",
            "Anatole\n",
            "the prince\n",
            "The prince\n",
            "Anna\n",
            "Pavlovna\n",
            "Anna Pavlovna\n"
          ]
        }
      ]
    },
    {
      "cell_type": "code",
      "source": [
        "# vendo o que vem sem o get_text()\n",
        "\n",
        "nameList = bs.find_all('span', {'class': 'green'})\n",
        "\n",
        "for name in nameList:\n",
        "  print(name)"
      ],
      "metadata": {
        "colab": {
          "base_uri": "https://localhost:8080/"
        },
        "id": "A3sQ7-LZPs-Z",
        "outputId": "98b3318b-98c5-4cce-c1a5-d02fbfa223c7"
      },
      "execution_count": null,
      "outputs": [
        {
          "output_type": "stream",
          "name": "stdout",
          "text": [
            "<span class=\"green\">Anna\n",
            "Pavlovna Scherer</span>\n",
            "<span class=\"green\">Empress Marya\n",
            "Fedorovna</span>\n",
            "<span class=\"green\">Prince Vasili Kuragin</span>\n",
            "<span class=\"green\">Anna Pavlovna</span>\n",
            "<span class=\"green\">St. Petersburg</span>\n",
            "<span class=\"green\">the prince</span>\n",
            "<span class=\"green\">Anna Pavlovna</span>\n",
            "<span class=\"green\">Anna Pavlovna</span>\n",
            "<span class=\"green\">the prince</span>\n",
            "<span class=\"green\">the prince</span>\n",
            "<span class=\"green\">the prince</span>\n",
            "<span class=\"green\">Prince Vasili</span>\n",
            "<span class=\"green\">Anna Pavlovna</span>\n",
            "<span class=\"green\">Anna Pavlovna</span>\n",
            "<span class=\"green\">the prince</span>\n",
            "<span class=\"green\">Wintzingerode</span>\n",
            "<span class=\"green\">King of Prussia</span>\n",
            "<span class=\"green\">le Vicomte de Mortemart</span>\n",
            "<span class=\"green\">Montmorencys</span>\n",
            "<span class=\"green\">Rohans</span>\n",
            "<span class=\"green\">Abbe Morio</span>\n",
            "<span class=\"green\">the Emperor</span>\n",
            "<span class=\"green\">the prince</span>\n",
            "<span class=\"green\">Prince Vasili</span>\n",
            "<span class=\"green\">Dowager Empress Marya Fedorovna</span>\n",
            "<span class=\"green\">the baron</span>\n",
            "<span class=\"green\">Anna Pavlovna</span>\n",
            "<span class=\"green\">the Empress</span>\n",
            "<span class=\"green\">the Empress</span>\n",
            "<span class=\"green\">Anna Pavlovna's</span>\n",
            "<span class=\"green\">Her Majesty</span>\n",
            "<span class=\"green\">Baron\n",
            "Funke</span>\n",
            "<span class=\"green\">The prince</span>\n",
            "<span class=\"green\">Anna\n",
            "Pavlovna</span>\n",
            "<span class=\"green\">the Empress</span>\n",
            "<span class=\"green\">The prince</span>\n",
            "<span class=\"green\">Anatole</span>\n",
            "<span class=\"green\">the prince</span>\n",
            "<span class=\"green\">The prince</span>\n",
            "<span class=\"green\">Anna\n",
            "Pavlovna</span>\n",
            "<span class=\"green\">Anna Pavlovna</span>\n"
          ]
        }
      ]
    },
    {
      "cell_type": "code",
      "source": [
        "# tentando com tagName\n",
        "\n",
        "randomly = bs.span\n",
        "\n",
        "for name in randomly:\n",
        "  print(name)\n",
        "\n",
        "# nesse caso ele está retornando apenas a primeira tag encontrada no html"
      ],
      "metadata": {
        "colab": {
          "base_uri": "https://localhost:8080/"
        },
        "id": "N7H4lq1qNpUv",
        "outputId": "d3699f29-28dc-4c10-94c4-66e38a906f62"
      },
      "execution_count": null,
      "outputs": [
        {
          "output_type": "stream",
          "name": "stdout",
          "text": [
            "Well, Prince, so Genoa and Lucca are now just family estates of the\n",
            "Buonapartes. But I warn you, if you don't tell me that this means war,\n",
            "if you still try to defend the infamies and horrors perpetrated by\n",
            "that Antichrist- I really believe he is Antichrist- I will have\n",
            "nothing more to do with you and you are no longer my friend, no longer\n",
            "my 'faithful slave,' as you call yourself! But how do you do? I see\n",
            "I have frightened you- sit down and tell me all the news.\n"
          ]
        }
      ]
    },
    {
      "cell_type": "code",
      "source": [
        "# find() e find_all() são as duas funções do BeautifulSoup que provavelmente serão mais usadas\n",
        "\n",
        "# com elas é possível filtrar facilmente as páginas HTML e encontrar as listas de tags desejadas - ou uma só tag - de acordo com seus vários atributos"
      ],
      "metadata": {
        "id": "7NsWTGt_Osn0"
      },
      "execution_count": null,
      "outputs": []
    },
    {
      "cell_type": "code",
      "source": [
        "# as duas funções são extremamentes parecidas, como mostram suas definições na documentação do BeautifulSoup:\n",
        "  #find_all(tag, attibutes, recursive, text, limit, keywords)\n",
        "  #find(tag, attributes, recursive, text, keywords)"
      ],
      "metadata": {
        "id": "b7yfVRVZRS2q"
      },
      "execution_count": null,
      "outputs": []
    },
    {
      "cell_type": "code",
      "source": [
        "# é bem provável que, em 95% do tempo, somente os dois primeiros argumentos serão necessários: tag e attributes"
      ],
      "metadata": {
        "id": "Bw3E8xbGRoe_"
      },
      "execution_count": null,
      "outputs": []
    },
    {
      "cell_type": "code",
      "source": [
        "# o argumento text é peculiar porque por fazer a correspondência com base no conteúdo textual das tags, em vez de usar suas propriedades\n",
        "\n",
        "# por exemplo, se quiser encontrar o número de vezes que \"the prince\" está cercado por tags na página de exemplo, a função .find_all() ->\n",
        "\n",
        "# poderia ser substituída no exemplo anterior pelas linhas a seguir:"
      ],
      "metadata": {
        "id": "-YZ-C7GFYamm"
      },
      "execution_count": null,
      "outputs": []
    },
    {
      "cell_type": "code",
      "source": [
        "nameList = bs.find_all(text='the prince')\n",
        "\n",
        "print(len(nameList))"
      ],
      "metadata": {
        "colab": {
          "base_uri": "https://localhost:8080/"
        },
        "id": "Qra8f5lBYztm",
        "outputId": "e8cd2b36-30fb-492a-d742-16ea0c00aef5"
      },
      "execution_count": null,
      "outputs": [
        {
          "output_type": "stream",
          "name": "stdout",
          "text": [
            "7\n"
          ]
        }
      ]
    },
    {
      "cell_type": "code",
      "source": [
        "# o argumento limit obvimanente é usado somente no método find_all\n",
        "\n",
        "# find é equivalente à chamada de find_all com um limite igual a 1\n",
        "\n",
        "# esse parâmetro pode ser definido se você esstiver interessado apenas em obter os primeiros x itens da página\n",
        "\n",
        "# importante saber que serão obtidos os primeiros itens da página na ordem em que ocorrerem, e não necessariamente os primeiros que se quer"
      ],
      "metadata": {
        "id": "SWJTTxY4Y6xA"
      },
      "execution_count": null,
      "outputs": []
    },
    {
      "cell_type": "code",
      "source": [
        "# o argumento keyword permite selecionar tags que contenham um atributo ou um conjunto de atributos específicos\n",
        "\n",
        "# por exemplo:\n",
        "\n",
        "title = bs.find_all(id='title', class_='text')"
      ],
      "metadata": {
        "id": "oxB9DRP6ZdT3"
      },
      "execution_count": null,
      "outputs": []
    },
    {
      "cell_type": "code",
      "source": [
        "# esse comando devolve a primeira tag com a palavra \"text\" no atributo class_ e \"title\" no atributo id\n",
        "\n",
        "# vale observar que, por convenção, cada valor de um id deve ser usado domente uma vez na página\n",
        "\n",
        "# assim, na prática, uma linha como essa talvez não seja particularmente útil, e deveria ser equivalente a:\n",
        "\n",
        "title = bs.find(id='title')"
      ],
      "metadata": {
        "colab": {
          "base_uri": "https://localhost:8080/"
        },
        "id": "1VRxqq4cZsuN",
        "outputId": "feb322a1-7b37-4e2d-b5c7-109165832e45"
      },
      "execution_count": null,
      "outputs": [
        {
          "output_type": "stream",
          "name": "stdout",
          "text": [
            "None\n"
          ]
        }
      ]
    },
    {
      "cell_type": "code",
      "source": [
        "# lidando com filhos e outros dependentes\n",
        "\n",
        "# se quiser encontrar somente os descendentes que sejam filhos, a tag .children pode ser usada\n",
        "\n",
        "from urllib.request import urlopen\n",
        "from bs4 import BeautifulSoup\n",
        "\n",
        "html = urlopen('https://pythonscraping.com/pages/page3.html')\n",
        "\n",
        "bs = BeautifulSoup(html, 'html.parser')\n",
        "\n",
        "for child in bs.find('table', {'id': 'giftList'}).children:\n",
        "  print(child)"
      ],
      "metadata": {
        "colab": {
          "base_uri": "https://localhost:8080/"
        },
        "id": "xmXdDYd7aRvH",
        "outputId": "6c34a3fb-2717-4928-d1dd-9d9f06262c2e"
      },
      "execution_count": null,
      "outputs": [
        {
          "output_type": "stream",
          "name": "stdout",
          "text": [
            "\n",
            "\n",
            "<tr><th>\n",
            "Item Title\n",
            "</th><th>\n",
            "Description\n",
            "</th><th>\n",
            "Cost\n",
            "</th><th>\n",
            "Image\n",
            "</th></tr>\n",
            "\n",
            "\n",
            "<tr class=\"gift\" id=\"gift1\"><td>\n",
            "Vegetable Basket\n",
            "</td><td>\n",
            "This vegetable basket is the perfect gift for your health conscious (or overweight) friends!\n",
            "<span class=\"excitingNote\">Now with super-colorful bell peppers!</span>\n",
            "</td><td>\n",
            "$15.00\n",
            "</td><td>\n",
            "<img src=\"../img/gifts/img1.jpg\"/>\n",
            "</td></tr>\n",
            "\n",
            "\n",
            "<tr class=\"gift\" id=\"gift2\"><td>\n",
            "Russian Nesting Dolls\n",
            "</td><td>\n",
            "Hand-painted by trained monkeys, these exquisite dolls are priceless! And by \"priceless,\" we mean \"extremely expensive\"! <span class=\"excitingNote\">8 entire dolls per set! Octuple the presents!</span>\n",
            "</td><td>\n",
            "$10,000.52\n",
            "</td><td>\n",
            "<img src=\"../img/gifts/img2.jpg\"/>\n",
            "</td></tr>\n",
            "\n",
            "\n",
            "<tr class=\"gift\" id=\"gift3\"><td>\n",
            "Fish Painting\n",
            "</td><td>\n",
            "If something seems fishy about this painting, it's because it's a fish! <span class=\"excitingNote\">Also hand-painted by trained monkeys!</span>\n",
            "</td><td>\n",
            "$10,005.00\n",
            "</td><td>\n",
            "<img src=\"../img/gifts/img3.jpg\"/>\n",
            "</td></tr>\n",
            "\n",
            "\n",
            "<tr class=\"gift\" id=\"gift4\"><td>\n",
            "Dead Parrot\n",
            "</td><td>\n",
            "This is an ex-parrot! <span class=\"excitingNote\">Or maybe he's only resting?</span>\n",
            "</td><td>\n",
            "$0.50\n",
            "</td><td>\n",
            "<img src=\"../img/gifts/img4.jpg\"/>\n",
            "</td></tr>\n",
            "\n",
            "\n",
            "<tr class=\"gift\" id=\"gift5\"><td>\n",
            "Mystery Box\n",
            "</td><td>\n",
            "If you love suprises, this mystery box is for you! Do not place on light-colored surfaces. May cause oil staining. <span class=\"excitingNote\">Keep your friends guessing!</span>\n",
            "</td><td>\n",
            "$1.50\n",
            "</td><td>\n",
            "<img src=\"../img/gifts/img6.jpg\"/>\n",
            "</td></tr>\n",
            "\n",
            "\n"
          ]
        }
      ]
    },
    {
      "cell_type": "code",
      "source": [
        "# esse código exive a lista das linhas de produto da tabela giftList, incluindo a linha inicial com os rótulos das colunas\n",
        "\n",
        "# se se fosse escrito com a função descendants() no lugar de childres(), aproximadamente duas dúzias de tags seriam encontradas ->\n",
        "\n",
        "# na tabela e seriam exibidas, incluindo as tags imp, span e as tags td individuais\n",
        "\n",
        "# sem dúvida é importante fazer uma diferenciação entre filhos e descendentes"
      ],
      "metadata": {
        "id": "H4AcMuebduYE"
      },
      "execution_count": null,
      "outputs": []
    },
    {
      "cell_type": "code",
      "source": [
        "# lidando com irmãos\n",
        "\n",
        "# com a função next_siblings() do BeautifulSoup, é trivial coletar dados de tabelas, particularmente daquelas com linhas de título\n",
        "\n",
        "from urllib.request import urlopen\n",
        "from bs4 import BeautifulSoup\n",
        "\n",
        "html = urlopen('https://pythonscraping.com/pages/page3.html')\n",
        "\n",
        "bs = BeautifulSoup(html, 'html.parser')\n",
        "\n",
        "for sibling in bs.find('table', {'id': 'giftList'}).tr.next_siblings:\n",
        "  print(sibling)"
      ],
      "metadata": {
        "colab": {
          "base_uri": "https://localhost:8080/"
        },
        "id": "E7FUsZ59EDvE",
        "outputId": "81883dc1-db21-4c0b-f3bf-7ec8383ad2f8"
      },
      "execution_count": null,
      "outputs": [
        {
          "output_type": "stream",
          "name": "stdout",
          "text": [
            "\n",
            "\n",
            "<tr class=\"gift\" id=\"gift1\"><td>\n",
            "Vegetable Basket\n",
            "</td><td>\n",
            "This vegetable basket is the perfect gift for your health conscious (or overweight) friends!\n",
            "<span class=\"excitingNote\">Now with super-colorful bell peppers!</span>\n",
            "</td><td>\n",
            "$15.00\n",
            "</td><td>\n",
            "<img src=\"../img/gifts/img1.jpg\"/>\n",
            "</td></tr>\n",
            "\n",
            "\n",
            "<tr class=\"gift\" id=\"gift2\"><td>\n",
            "Russian Nesting Dolls\n",
            "</td><td>\n",
            "Hand-painted by trained monkeys, these exquisite dolls are priceless! And by \"priceless,\" we mean \"extremely expensive\"! <span class=\"excitingNote\">8 entire dolls per set! Octuple the presents!</span>\n",
            "</td><td>\n",
            "$10,000.52\n",
            "</td><td>\n",
            "<img src=\"../img/gifts/img2.jpg\"/>\n",
            "</td></tr>\n",
            "\n",
            "\n",
            "<tr class=\"gift\" id=\"gift3\"><td>\n",
            "Fish Painting\n",
            "</td><td>\n",
            "If something seems fishy about this painting, it's because it's a fish! <span class=\"excitingNote\">Also hand-painted by trained monkeys!</span>\n",
            "</td><td>\n",
            "$10,005.00\n",
            "</td><td>\n",
            "<img src=\"../img/gifts/img3.jpg\"/>\n",
            "</td></tr>\n",
            "\n",
            "\n",
            "<tr class=\"gift\" id=\"gift4\"><td>\n",
            "Dead Parrot\n",
            "</td><td>\n",
            "This is an ex-parrot! <span class=\"excitingNote\">Or maybe he's only resting?</span>\n",
            "</td><td>\n",
            "$0.50\n",
            "</td><td>\n",
            "<img src=\"../img/gifts/img4.jpg\"/>\n",
            "</td></tr>\n",
            "\n",
            "\n",
            "<tr class=\"gift\" id=\"gift5\"><td>\n",
            "Mystery Box\n",
            "</td><td>\n",
            "If you love suprises, this mystery box is for you! Do not place on light-colored surfaces. May cause oil staining. <span class=\"excitingNote\">Keep your friends guessing!</span>\n",
            "</td><td>\n",
            "$1.50\n",
            "</td><td>\n",
            "<img src=\"../img/gifts/img6.jpg\"/>\n",
            "</td></tr>\n",
            "\n",
            "\n"
          ]
        }
      ]
    },
    {
      "cell_type": "code",
      "source": [
        "# esse código tem como saída todas as linhas de produtos da tabela, exceto a primeira linha com os títulos\n",
        "\n",
        "# porque a linha com títulos é ignorada? objetos não podem ser irmãos deles mesmos\n",
        "\n",
        "# sempres que os irmãos de um objeto forem obtidos, o próprio objeto não estará incluido na lista\n",
        "\n",
        "# como implica o nome da função, ela chama somente os próximos (next) irmãos\n",
        "\n",
        "# se uma linha no meio da lista, por exemplo, fosse selecionada, e next_siblings fosse chamada, somente os irmãos subsequentes seriam devolvidos\n",
        "\n",
        "# assim, ao selecionar a linha de títulos e chamar next_siblings, podemos selecionar todas as linhas da tabela, sem selecionar a própria linha de títulos"
      ],
      "metadata": {
        "id": "vz0-xuJ0E0uB"
      },
      "execution_count": null,
      "outputs": []
    },
    {
      "cell_type": "code",
      "source": [
        "# o código anterior funcionará normalmente também de outras formas:\n",
        "\n",
        "bs.table.tr"
      ],
      "metadata": {
        "colab": {
          "base_uri": "https://localhost:8080/"
        },
        "id": "gTUrQJW2F8yI",
        "outputId": "804ca2b4-6799-4b61-cbd5-bbf93ffbeb70"
      },
      "execution_count": null,
      "outputs": [
        {
          "output_type": "execute_result",
          "data": {
            "text/plain": [
              "<tr><th>\n",
              "Item Title\n",
              "</th><th>\n",
              "Description\n",
              "</th><th>\n",
              "Cost\n",
              "</th><th>\n",
              "Image\n",
              "</th></tr>"
            ]
          },
          "metadata": {},
          "execution_count": 10
        }
      ]
    },
    {
      "cell_type": "code",
      "source": [
        "# testando de outra forma:\n",
        "\n",
        "bs.tr"
      ],
      "metadata": {
        "colab": {
          "base_uri": "https://localhost:8080/"
        },
        "id": "ZtoS7pUfGIss",
        "outputId": "33c0e4d8-cfd1-4bdf-bdc4-c4ab8b48d49d"
      },
      "execution_count": null,
      "outputs": [
        {
          "output_type": "execute_result",
          "data": {
            "text/plain": [
              "<tr><th>\n",
              "Item Title\n",
              "</th><th>\n",
              "Description\n",
              "</th><th>\n",
              "Cost\n",
              "</th><th>\n",
              "Image\n",
              "</th></tr>"
            ]
          },
          "metadata": {},
          "execution_count": 9
        }
      ]
    },
    {
      "cell_type": "code",
      "source": [
        "# tentando a forma original\n",
        "\n",
        "bs.find('table', {'id': 'giftList'}).tr"
      ],
      "metadata": {
        "colab": {
          "base_uri": "https://localhost:8080/"
        },
        "id": "yMqlHtSKGZLz",
        "outputId": "009188e9-ed17-4e42-bc2a-0c83a373a965"
      },
      "execution_count": null,
      "outputs": [
        {
          "output_type": "execute_result",
          "data": {
            "text/plain": [
              "<tr><th>\n",
              "Item Title\n",
              "</th><th>\n",
              "Description\n",
              "</th><th>\n",
              "Cost\n",
              "</th><th>\n",
              "Image\n",
              "</th></tr>"
            ]
          },
          "metadata": {},
          "execution_count": 11
        }
      ]
    },
    {
      "cell_type": "code",
      "source": [
        "# tentando extrair as informações\n",
        "\n",
        "for sibling in bs.tr.next_siblings:\n",
        "  print(sibling)"
      ],
      "metadata": {
        "colab": {
          "base_uri": "https://localhost:8080/"
        },
        "id": "aeypMR4gGm0y",
        "outputId": "a1d26092-f40b-4286-c668-4c5246603f06"
      },
      "execution_count": null,
      "outputs": [
        {
          "output_type": "stream",
          "name": "stdout",
          "text": [
            "\n",
            "\n",
            "<tr class=\"gift\" id=\"gift1\"><td>\n",
            "Vegetable Basket\n",
            "</td><td>\n",
            "This vegetable basket is the perfect gift for your health conscious (or overweight) friends!\n",
            "<span class=\"excitingNote\">Now with super-colorful bell peppers!</span>\n",
            "</td><td>\n",
            "$15.00\n",
            "</td><td>\n",
            "<img src=\"../img/gifts/img1.jpg\"/>\n",
            "</td></tr>\n",
            "\n",
            "\n",
            "<tr class=\"gift\" id=\"gift2\"><td>\n",
            "Russian Nesting Dolls\n",
            "</td><td>\n",
            "Hand-painted by trained monkeys, these exquisite dolls are priceless! And by \"priceless,\" we mean \"extremely expensive\"! <span class=\"excitingNote\">8 entire dolls per set! Octuple the presents!</span>\n",
            "</td><td>\n",
            "$10,000.52\n",
            "</td><td>\n",
            "<img src=\"../img/gifts/img2.jpg\"/>\n",
            "</td></tr>\n",
            "\n",
            "\n",
            "<tr class=\"gift\" id=\"gift3\"><td>\n",
            "Fish Painting\n",
            "</td><td>\n",
            "If something seems fishy about this painting, it's because it's a fish! <span class=\"excitingNote\">Also hand-painted by trained monkeys!</span>\n",
            "</td><td>\n",
            "$10,005.00\n",
            "</td><td>\n",
            "<img src=\"../img/gifts/img3.jpg\"/>\n",
            "</td></tr>\n",
            "\n",
            "\n",
            "<tr class=\"gift\" id=\"gift4\"><td>\n",
            "Dead Parrot\n",
            "</td><td>\n",
            "This is an ex-parrot! <span class=\"excitingNote\">Or maybe he's only resting?</span>\n",
            "</td><td>\n",
            "$0.50\n",
            "</td><td>\n",
            "<img src=\"../img/gifts/img4.jpg\"/>\n",
            "</td></tr>\n",
            "\n",
            "\n",
            "<tr class=\"gift\" id=\"gift5\"><td>\n",
            "Mystery Box\n",
            "</td><td>\n",
            "If you love suprises, this mystery box is for you! Do not place on light-colored surfaces. May cause oil staining. <span class=\"excitingNote\">Keep your friends guessing!</span>\n",
            "</td><td>\n",
            "$1.50\n",
            "</td><td>\n",
            "<img src=\"../img/gifts/img6.jpg\"/>\n",
            "</td></tr>\n",
            "\n",
            "\n"
          ]
        }
      ]
    },
    {
      "cell_type": "code",
      "source": [
        "# mesma que pareça haver somente uma tablea (ou, outra tag desejada) na página, é fácil cometer erros\n",
        "\n",
        "# além do mais, os layouts das páginas mudam o tempo todo\n",
        "\n",
        "# o que poderia ter sido a primeira tag da página um dia pode vir a ser a segunda ou a terceira tag desse tipo encontrada na página\n",
        "\n",
        "# para deixar os scrapers mais robustos, é melhor ser o mais específico possível na seleção de tags\n",
        "\n",
        "# é importante tirar proveito dos atributos de tags se estiverem disponíveis!!"
      ],
      "metadata": {
        "id": "f898wx_cG0XQ"
      },
      "execution_count": null,
      "outputs": []
    },
    {
      "cell_type": "code",
      "source": [
        "# como complemento para next_siblings, a função previous_siblings muitas vezes pode ser útil se houver uma tag facilmente selecionável ->\n",
        "\n",
        "# no final de uma lista de tags irmãs que se queira obter"
      ],
      "metadata": {
        "id": "jciRRLP-HiFb"
      },
      "execution_count": null,
      "outputs": []
    },
    {
      "cell_type": "code",
      "source": [
        "# alé disso, é claro, temos as funções next_sibling e previous_sibling, que têm quase a mesma função de next_siblings e previous_siblings ->\n",
        "\n",
        "# mas devolvem uma única tag, em vez de devolver uma lista delas"
      ],
      "metadata": {
        "id": "H4e92PR1HwgM"
      },
      "execution_count": null,
      "outputs": []
    },
    {
      "cell_type": "code",
      "source": [
        "# lidando com pais\n",
        "\n",
        "# as funções BeautifulSoup para lidar com os pais são .parent e .parents"
      ],
      "metadata": {
        "id": "EiNE1pbGIGOS"
      },
      "execution_count": null,
      "outputs": []
    },
    {
      "cell_type": "code",
      "source": [
        "# por exemplo:\n",
        "\n",
        "from urllib.request import urlopen\n",
        "from bs4 import BeautifulSoup\n",
        "\n",
        "html = urlopen('https://pythonscraping.com/pages/page3.html')\n",
        "\n",
        "bs = BeautifulSoup(html, 'html.parser')\n",
        "\n",
        "print(bs.find('img', {'src': '../img/gifts/img1.jpg'}).parent.previous_sibling.get_text())"
      ],
      "metadata": {
        "colab": {
          "base_uri": "https://localhost:8080/"
        },
        "id": "IWWUp-npIWmD",
        "outputId": "1722c32b-18ed-43af-beb0-a10ad1fbe903"
      },
      "execution_count": null,
      "outputs": [
        {
          "output_type": "stream",
          "name": "stdout",
          "text": [
            "\n",
            "$15.00\n",
            "\n"
          ]
        }
      ]
    },
    {
      "cell_type": "code",
      "source": [
        "# expressões regulares e o BeautifulSoup\n",
        "\n",
        "from urllib.request import urlopen\n",
        "from bs4 import BeautifulSoup\n",
        "import re\n",
        "\n",
        "html = urlopen('https://pythonscraping.com/pages/page3.html')\n",
        "\n",
        "bs = BeautifulSoup(html, 'html.parser')\n",
        "\n",
        "images = bs.find_all('img', {'src': re.compile('\\.\\.\\/img\\/gifts/img.*\\.jpg')})\n",
        "\n",
        "for image in images:\n",
        "  print(image['src'])"
      ],
      "metadata": {
        "colab": {
          "base_uri": "https://localhost:8080/"
        },
        "id": "T1xiLj45IgKK",
        "outputId": "f22a1deb-0b67-4072-e982-08f1c6a127c2"
      },
      "execution_count": null,
      "outputs": [
        {
          "output_type": "stream",
          "name": "stdout",
          "text": [
            "../img/gifts/img1.jpg\n",
            "../img/gifts/img2.jpg\n",
            "../img/gifts/img3.jpg\n",
            "../img/gifts/img4.jpg\n",
            "../img/gifts/img6.jpg\n"
          ]
        }
      ]
    },
    {
      "cell_type": "code",
      "source": [
        "# uma expressão regular pode ser inserida como qualquer argumento em uma expressão do BeautifulSoup, o que permite ter bastante ->\n",
        "\n",
        "# flexibilidade para encontrar os elementos desejados"
      ],
      "metadata": {
        "id": "Irxz5it7QA1P"
      },
      "execution_count": null,
      "outputs": []
    },
    {
      "cell_type": "code",
      "source": [
        "# expressões lambda\n",
        "\n",
        "# o código a seguir obtém todas as tags que contenham exatamente dois atributos:\n",
        "\n",
        "bs.find_all(lambda tag: len(tag.attrs) == 2)"
      ],
      "metadata": {
        "colab": {
          "base_uri": "https://localhost:8080/"
        },
        "id": "ugMnxdH8QUiv",
        "outputId": "2e7e9b87-38d2-4653-8fd5-70fedff49e29"
      },
      "execution_count": null,
      "outputs": [
        {
          "output_type": "execute_result",
          "data": {
            "text/plain": [
              "[<img src=\"../img/gifts/logo.jpg\" style=\"float:left;\"/>,\n",
              " <tr class=\"gift\" id=\"gift1\"><td>\n",
              " Vegetable Basket\n",
              " </td><td>\n",
              " This vegetable basket is the perfect gift for your health conscious (or overweight) friends!\n",
              " <span class=\"excitingNote\">Now with super-colorful bell peppers!</span>\n",
              " </td><td>\n",
              " $15.00\n",
              " </td><td>\n",
              " <img src=\"../img/gifts/img1.jpg\"/>\n",
              " </td></tr>,\n",
              " <tr class=\"gift\" id=\"gift2\"><td>\n",
              " Russian Nesting Dolls\n",
              " </td><td>\n",
              " Hand-painted by trained monkeys, these exquisite dolls are priceless! And by \"priceless,\" we mean \"extremely expensive\"! <span class=\"excitingNote\">8 entire dolls per set! Octuple the presents!</span>\n",
              " </td><td>\n",
              " $10,000.52\n",
              " </td><td>\n",
              " <img src=\"../img/gifts/img2.jpg\"/>\n",
              " </td></tr>,\n",
              " <tr class=\"gift\" id=\"gift3\"><td>\n",
              " Fish Painting\n",
              " </td><td>\n",
              " If something seems fishy about this painting, it's because it's a fish! <span class=\"excitingNote\">Also hand-painted by trained monkeys!</span>\n",
              " </td><td>\n",
              " $10,005.00\n",
              " </td><td>\n",
              " <img src=\"../img/gifts/img3.jpg\"/>\n",
              " </td></tr>,\n",
              " <tr class=\"gift\" id=\"gift4\"><td>\n",
              " Dead Parrot\n",
              " </td><td>\n",
              " This is an ex-parrot! <span class=\"excitingNote\">Or maybe he's only resting?</span>\n",
              " </td><td>\n",
              " $0.50\n",
              " </td><td>\n",
              " <img src=\"../img/gifts/img4.jpg\"/>\n",
              " </td></tr>,\n",
              " <tr class=\"gift\" id=\"gift5\"><td>\n",
              " Mystery Box\n",
              " </td><td>\n",
              " If you love suprises, this mystery box is for you! Do not place on light-colored surfaces. May cause oil staining. <span class=\"excitingNote\">Keep your friends guessing!</span>\n",
              " </td><td>\n",
              " $1.50\n",
              " </td><td>\n",
              " <img src=\"../img/gifts/img6.jpg\"/>\n",
              " </td></tr>]"
            ]
          },
          "metadata": {},
          "execution_count": 29
        }
      ]
    },
    {
      "cell_type": "code",
      "source": [
        "# a função lambda é tão útil que pode ser usada até mesmo para substituir funções do BeautifulSoup\n",
        "\n",
        "bs.find_all(lambda tag: tag.get_text() == 'Or maybe he\\'s only resting?')"
      ],
      "metadata": {
        "colab": {
          "base_uri": "https://localhost:8080/"
        },
        "id": "T3_FQIeMQysD",
        "outputId": "5234b8f2-7b3b-4ef5-cf3e-89dc0800c00d"
      },
      "execution_count": null,
      "outputs": [
        {
          "output_type": "execute_result",
          "data": {
            "text/plain": [
              "[<span class=\"excitingNote\">Or maybe he's only resting?</span>]"
            ]
          },
          "metadata": {},
          "execution_count": 30
        }
      ]
    },
    {
      "cell_type": "code",
      "source": [
        "# isso pode ser feito sem uma função lambda\n",
        "\n",
        "bs.find_all('', text=\"Or maybe he's only resting?\")"
      ],
      "metadata": {
        "colab": {
          "base_uri": "https://localhost:8080/"
        },
        "id": "fMeMO5n1ScZz",
        "outputId": "f491574a-5bc6-497a-a518-7e8a1be1d308"
      },
      "execution_count": null,
      "outputs": [
        {
          "output_type": "execute_result",
          "data": {
            "text/plain": [
              "[\"Or maybe he's only resting?\"]"
            ]
          },
          "metadata": {},
          "execution_count": 31
        }
      ]
    },
    {
      "cell_type": "markdown",
      "source": [
        "### Capítulo 3 - Escrevendo Web Crawlers"
      ],
      "metadata": {
        "id": "xB3Fj69oh9jw"
      }
    },
    {
      "cell_type": "code",
      "source": [
        "# web crawler teste na página da wikipedia\n",
        "\n",
        "from urllib.request import urlopen\n",
        "from bs4 import BeautifulSoup\n",
        "\n",
        "html = urlopen('http://en.wikipedia.org/wiki/Kevin_Bacon')\n",
        "bs = BeautifulSoup(html, 'html.parser')\n",
        "for link in bs.find_all('a'):\n",
        "  if 'href' in link.attrs:\n",
        "    print(link.attrs['href'])"
      ],
      "metadata": {
        "id": "dBciJhaoiFB3"
      },
      "execution_count": null,
      "outputs": []
    },
    {
      "cell_type": "code",
      "source": [
        "# com objetos de tag, uma lista python com os atributos pode ser automaticamente acessada por meio de uma chamada como \"link.attrs\"\n",
        "\n",
        "# é importante ter em mente que esse código devolve, literalmente, um objeto de dicionário python, fazendo com que seja simples,\n",
        "# acessar e manipular esses atributos\n",
        "\n",
        "# o elemento \"link\" acima é um objeto bs4.element.Tag, que possui o método attrs, que permite tal acesso"
      ],
      "metadata": {
        "id": "oSSMqYHktFIm"
      },
      "execution_count": null,
      "outputs": []
    },
    {
      "cell_type": "code",
      "source": [
        "# análise do código acima\n",
        "\n",
        "  # 1. é importada a função urlopen da biblioteca urllib, que está no módulo request\n",
        "  # 2. é importado o módulo request que está na biblioteca bs4\n",
        "  # 3. é requisitado o objeto html da url, e então gerado um objeto \"http.client.HTTPResponse\" - <http.client.HTTPResponse at 0x7fa3d1ad7950>\n",
        "  # 4. é utilizada a função BeautifulSoup para fazer o parse do objeto\n",
        "    ## esse objeto é o html puro da página url - trata-se de um objeto da classe bs4.BeautifulSoup\n",
        "  # 5. é utilizada a função find_all('a') no objeto para se buscar todos os elementos html <a>\n",
        "    ## é retornada uma lista com todos os elementos <a>\n",
        "  # 6. aplica-se um laço for na lista de elementos <a> para se trabalhar cada elemento - cada elemento será chamado \"link\"\n",
        "    ## cada link é um objeto bs4.element.Tag\n",
        "  # 7. é aplicada uma condição if: se houver alguma chave \"href\" no dicionário de link.attrs:\n",
        "  # 8. deve então ser impresso o value correspondente à key 'href'"
      ],
      "metadata": {
        "id": "REx8vwZsnZbF"
      },
      "execution_count": null,
      "outputs": []
    },
    {
      "cell_type": "code",
      "source": [
        "# a wikipedia possui links para caixas de texto, rodapés e cabeçalhos que não são de interesse\n",
        "\n",
        "# existem regras específicas para páginas que apontam para artigos, como:\n",
        "  # estão na div com o id definido com o bodyContent\n",
        "  # os URLs não contêm dois-pontos\n",
        "  # os URLs começam com /wiki/"
      ],
      "metadata": {
        "id": "YxwQ1FhcnSHn"
      },
      "execution_count": 1,
      "outputs": []
    },
    {
      "cell_type": "code",
      "source": [
        "# essas regras podem ser usadas para uma pequena revisão no código a fim de obter somente os links desejados para artigos,\n",
        "\n",
        "# para isso utiliza-se a expressão regular ^(/wiki/)((?!:).)*$\"):"
      ],
      "metadata": {
        "id": "Esq6hcyoSpCj"
      },
      "execution_count": 2,
      "outputs": []
    },
    {
      "cell_type": "code",
      "source": [
        "from urllib.request import urlopen\n",
        "from bs4 import BeautifulSoup\n",
        "import re\n",
        "\n",
        "html = urlopen('http://en.wikipedia.org/wiki/Kevin_Bacon')\n",
        "bs = BeautifulSoup(html, 'html.parser')\n",
        "for link in bs.find('div', {'id':'bodyContent'}).find_all('a', href=re.compile('^(/wiki/)((?!:).)*$')):\n",
        "  if 'href' in link.attrs:\n",
        "    print(link.attrs['href'])"
      ],
      "metadata": {
        "id": "-lw8nsAnTVqp"
      },
      "execution_count": null,
      "outputs": []
    },
    {
      "cell_type": "code",
      "source": [
        "# análise do código acima\n",
        "\n",
        "# 1. importa a função urlopen, presente no módulo request da biblioteca urllib\n",
        "# 2. importa a função BeautifulSoup do módulo bs4\n",
        "# 3. importa o módulo re (regex)\n",
        "# 3. é requisitado o objeto html da url, e então gerado um objeto \"http.client.HTTPResponse\" - <http.client.HTTPResponse at 0x7fa3d1ad7950>\n",
        "# 4. é utilizada a função BeautifulSoup para fazer o parse do objeto\n",
        "# 5. é utilizada a função find que retorna a primeira tag com o nome ou id especificado - nesse caso: id: bodyContent\n",
        "  # 5.1. poderia ter sido utilizado apenas o elemento div, porém se pode especificar o id\n",
        "  # 5.2. é retornado tudo que está dentro desse elemento no html\n",
        "  # 5.4. trata-se de um objeto bs4.element.Tag\n",
        "# 6. é usado o método find_all para encontrar e retornar uma lista com todos os elementos a\n",
        "  # 6.1. é passado o argumento href=re.compile('^(/wiki/)((?!:).)*$') - que busca nos elementos href a regex demandada\n",
        "  # 6.2. a regex escrita delimita os elementos href que começam com \"/wiki/\", não possuem \":\" e terminam a linha\n",
        "# 7. não era necessária a linha de código com if, dado que os \"já foram selecionados\" no loop anterior"
      ],
      "metadata": {
        "id": "CZY1zXysU0J-"
      },
      "execution_count": null,
      "outputs": []
    }
  ]
}